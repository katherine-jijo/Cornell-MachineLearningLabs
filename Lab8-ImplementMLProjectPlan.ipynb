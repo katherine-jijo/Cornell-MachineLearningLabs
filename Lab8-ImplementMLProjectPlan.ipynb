{
 "cells": [
  {
   "cell_type": "markdown",
   "metadata": {},
   "source": [
    "# Lab 8: Implement Your Machine Learning Project Plan"
   ]
  },
  {
   "cell_type": "markdown",
   "metadata": {},
   "source": [
    "In this lab assignment, you will implement the machine learning project plan you created in the written assignment. You will:\n",
    "\n",
    "1. Load your data set and save it to a Pandas DataFrame.\n",
    "2. Perform exploratory data analysis on your data to determine which feature engineering and data preparation techniques you will use.\n",
    "3. Prepare your data for your model and create features and a label.\n",
    "4. Fit your model to the training data and evaluate your model.\n",
    "5. Improve your model by performing model selection and/or feature selection techniques to find best model for your problem."
   ]
  },
  {
   "cell_type": "markdown",
   "metadata": {},
   "source": [
    "### Import Packages\n",
    "\n",
    "Before you get started, import a few packages."
   ]
  },
  {
   "cell_type": "code",
   "execution_count": 3,
   "metadata": {},
   "outputs": [],
   "source": [
    "import pandas as pd\n",
    "import numpy as np\n",
    "import os \n",
    "import matplotlib.pyplot as plt\n",
    "import seaborn as sns"
   ]
  },
  {
   "cell_type": "markdown",
   "metadata": {},
   "source": [
    "<b>Task:</b> In the code cell below, import additional packages that you have used in this course that you will need for this task."
   ]
  },
  {
   "cell_type": "code",
   "execution_count": 4,
   "metadata": {},
   "outputs": [],
   "source": [
    "from sklearn.model_selection import train_test_split\n",
    "from sklearn.tree import DecisionTreeClassifier\n",
    "from sklearn.metrics import accuracy_score, classification_report, confusion_matrix\n",
    "from sklearn.preprocessing import StandardScaler\n",
    "from sklearn.model_selection import GridSearchCV\n",
    "from sklearn.metrics import accuracy_score\n"
   ]
  },
  {
   "cell_type": "markdown",
   "metadata": {},
   "source": [
    "## Part 1: Load the Data Set\n",
    "\n",
    "\n",
    "You have chosen to work with one of four data sets. The data sets are located in a folder named \"data.\" The file names of the three data sets are as follows:\n",
    "\n",
    "* The \"adult\" data set that contains Census information from 1994 is located in file `adultData.csv`\n",
    "* The airbnb NYC \"listings\" data set is located in file  `airbnbListingsData.csv`\n",
    "* The World Happiness Report (WHR) data set is located in file `WHR2018Chapter2OnlineData.csv`\n",
    "* The book review data set is located in file `bookReviewsData.csv`\n",
    "\n",
    "\n",
    "\n",
    "<b>Task:</b> In the code cell below, use the same method you have been using to load your data using `pd.read_csv()` and save it to DataFrame `df`."
   ]
  },
  {
   "cell_type": "code",
   "execution_count": 5,
   "metadata": {},
   "outputs": [],
   "source": [
    "# Specify the file path of the data\n",
    "data_file_path = \"data/airbnbListingsData.csv\"\n",
    "\n",
    "# Load the data into a DataFrame called df\n",
    "df = pd.read_csv(data_file_path)"
   ]
  },
  {
   "cell_type": "markdown",
   "metadata": {},
   "source": [
    "## Part 2: Exploratory Data Analysis\n",
    "\n",
    "The next step is to inspect and analyze your data set with your machine learning problem and project plan in mind. \n",
    "\n",
    "This step will help you determine data preparation and feature engineering techniques you will need to apply to your data to build a balanced modeling data set for your problem and model. These data preparation techniques may include:\n",
    "* addressing missingness, such as replacing missing values with means\n",
    "* renaming features and labels\n",
    "* finding and replacing outliers\n",
    "* performing winsorization if needed\n",
    "* performing one-hot encoding on categorical features\n",
    "* performing vectorization for an NLP problem\n",
    "* addressing class imbalance in your data sample to promote fair AI\n",
    "\n",
    "\n",
    "Think of the different techniques you have used to inspect and analyze your data in this course. These include using Pandas to apply data filters, using the Pandas `describe()` method to get insight into key statistics for each column, using the Pandas `dtypes` property to inspect the data type of each column, and using Matplotlib and Seaborn to detect outliers and visualize relationships between features and labels. If you are working on a classification problem, use techniques you have learned to determine if there is class imbalance.\n",
    "\n",
    "\n",
    "<b>Task</b>: Use the techniques you have learned in this course to inspect and analyze your data. \n",
    "\n",
    "<b>Note</b>: You can add code cells if needed by going to the <b>Insert</b> menu and clicking on <b>Insert Cell Below</b> in the drop-drown menu."
   ]
  },
  {
   "cell_type": "code",
   "execution_count": null,
   "metadata": {},
   "outputs": [
    {
     "name": "stdout",
     "output_type": "stream",
     "text": [
      "                                                name  \\\n",
      "0                              Skylit Midtown Castle   \n",
      "1  Whole flr w/private bdrm, bath & kitchen(pls r...   \n",
      "2           Spacious Brooklyn Duplex, Patio + Garden   \n",
      "3                   Large Furnished Room Near B'way　   \n",
      "4                 Cozy Clean Guest Room - Family Apt   \n",
      "\n",
      "                                         description  \\\n",
      "0  Beautiful, spacious skylit studio in the heart...   \n",
      "1  Enjoy 500 s.f. top floor in 1899 brownstone, w...   \n",
      "2  We welcome you to stay in our lovely 2 br dupl...   \n",
      "3  Please don’t expect the luxury here just a bas...   \n",
      "4  Our best guests are seeking a safe, clean, spa...   \n",
      "\n",
      "                               neighborhood_overview    host_name  \\\n",
      "0  Centrally located in the heart of Manhattan ju...     Jennifer   \n",
      "1  Just the right mix of urban center and local n...  LisaRoxanne   \n",
      "2                                                NaN      Rebecca   \n",
      "3    Theater district, many restaurants around here.     Shunichi   \n",
      "4  Our neighborhood is full of restaurants and ca...    MaryEllen   \n",
      "\n",
      "                       host_location  \\\n",
      "0  New York, New York, United States   \n",
      "1  New York, New York, United States   \n",
      "2  Brooklyn, New York, United States   \n",
      "3  New York, New York, United States   \n",
      "4  New York, New York, United States   \n",
      "\n",
      "                                          host_about  host_response_rate  \\\n",
      "0  A New Yorker since 2000! My passion is creatin...                0.80   \n",
      "1  Laid-back Native New Yorker (formerly bi-coast...                0.09   \n",
      "2  Rebecca is an artist/designer, and Henoch is i...                1.00   \n",
      "3  I used to work for a financial industry but no...                1.00   \n",
      "4  Welcome to family life with my oldest two away...                 NaN   \n",
      "\n",
      "   host_acceptance_rate  host_is_superhost  host_listings_count  ...  \\\n",
      "0                  0.17               True                  8.0  ...   \n",
      "1                  0.69               True                  1.0  ...   \n",
      "2                  0.25               True                  1.0  ...   \n",
      "3                  1.00               True                  1.0  ...   \n",
      "4                   NaN               True                  1.0  ...   \n",
      "\n",
      "   review_scores_communication  review_scores_location  review_scores_value  \\\n",
      "0                         4.79                    4.86                 4.41   \n",
      "1                         4.80                    4.71                 4.64   \n",
      "2                         5.00                    4.50                 5.00   \n",
      "3                         4.42                    4.87                 4.36   \n",
      "4                         4.95                    4.94                 4.92   \n",
      "\n",
      "  instant_bookable calculated_host_listings_count  \\\n",
      "0            False                              3   \n",
      "1            False                              1   \n",
      "2            False                              1   \n",
      "3            False                              1   \n",
      "4            False                              1   \n",
      "\n",
      "   calculated_host_listings_count_entire_homes  \\\n",
      "0                                            3   \n",
      "1                                            1   \n",
      "2                                            1   \n",
      "3                                            0   \n",
      "4                                            0   \n",
      "\n",
      "   calculated_host_listings_count_private_rooms  \\\n",
      "0                                             0   \n",
      "1                                             0   \n",
      "2                                             0   \n",
      "3                                             1   \n",
      "4                                             1   \n",
      "\n",
      "   calculated_host_listings_count_shared_rooms  reviews_per_month  \\\n",
      "0                                            0               0.33   \n",
      "1                                            0               4.86   \n",
      "2                                            0               0.02   \n",
      "3                                            0               3.68   \n",
      "4                                            0               0.87   \n",
      "\n",
      "  n_host_verifications  \n",
      "0                    9  \n",
      "1                    6  \n",
      "2                    3  \n",
      "3                    4  \n",
      "4                    7  \n",
      "\n",
      "[5 rows x 50 columns]\n",
      "          bathrooms      bedrooms          beds         price\n",
      "count  28022.000000  25104.000000  26668.000000  28022.000000\n",
      "mean       1.142174      1.329708      1.629556    154.228749\n",
      "std        0.421132      0.700726      1.097104    140.816605\n",
      "min        0.000000      1.000000      1.000000     29.000000\n",
      "25%        1.000000      1.000000      1.000000     70.000000\n",
      "50%        1.000000      1.000000      1.000000    115.000000\n",
      "75%        1.000000      1.000000      2.000000    180.000000\n",
      "max        8.000000     12.000000     21.000000   1000.000000\n",
      "bathrooms    float64\n",
      "bedrooms     float64\n",
      "beds         float64\n",
      "price        float64\n",
      "dtype: object\n"
     ]
    }
   ],
   "source": [
    "# GOAL: Predict whether airbnb price is over or \n",
    "#under $500 based on physical qualities - focusing on the selected \n",
    "#columns 'bathrooms', 'bedrooms', 'beds', and 'price'.\n",
    "\n",
    "\n",
    "#Exploratory Data Analysis\n",
    "# Display the first few rows of the data\n",
    "print(df.head())\n",
    "\n",
    "\n",
    "# Get basic statistics and data types of the selected columns\n",
    "#group desired columns \n",
    "selected_columns = ['bathrooms', 'bedrooms', 'beds', 'price']\n",
    "print(df[selected_columns].describe())\n",
    "\n",
    "# Data types of the selected columns\n",
    "print(df[selected_columns].dtypes)\n",
    "\n",
    "\n",
    "# Visualize relationships between features and the target ('price')\n",
    "sns.pairplot(df[['bathrooms', 'bedrooms', 'beds', 'price']], hue='price', diag_kind='hist')\n",
    "plt.show()\n",
    "\n",
    "\n",
    "# Check for missing values\n",
    "missing_values = data[selected_columns].isnull().sum()\n",
    "print(\"Missing values:\", missing_values)\n",
    "# Handling missing values by replacing with mean (for numerical columns)\n",
    "df[selected_columns] = df[selected_columns].fillna(df[selected_columns].mean())\n",
    "\n",
    "# Visualize relationships between features and the target ('price')\n",
    "sns.pairplot(df[selected_columns], hue='price', diag_kind='hist')\n",
    "plt.show()\n",
    "\n",
    "# Address class imbalance\n",
    "# Count the number of instances for each class (over $500 and under $500)\n",
    "class_counts = df['price'].value_counts()\n",
    "print(\"Class counts:\", class_counts)\n",
    "\n",
    "# Preprocess the data for modeling\n",
    "# Standardize numerical features\n",
    "scaler = StandardScaler()\n",
    "df[selected_columns[:-1]] = scaler.fit_transform(df[selected_columns[:-1]])\n",
    "\n",
    "print(df.head())\n",
    "\n",
    "# Visualize class distribution\n",
    "plt.figure(figsize=(6, 4))\n",
    "sns.countplot(x='price', data=df)\n",
    "plt.title(\"Class Distribution\")\n",
    "plt.show()"
   ]
  },
  {
   "cell_type": "markdown",
   "metadata": {},
   "source": [
    "## Part 3: Implement Your Project Plan\n",
    "\n",
    "<b>Task:</b> Use the rest of this notebook to carry out your project plan. You will:\n",
    "\n",
    "1. Prepare your data for your model and create features and a label.\n",
    "2. Fit your model to the training data and evaluate your model.\n",
    "3. Improve your model by performing model selection and/or feature selection techniques to find best model for your problem.\n",
    "\n",
    "\n",
    "Add code cells below and populate the notebook with commentary, code, analyses, results, and figures as you see fit."
   ]
  },
  {
   "cell_type": "code",
   "execution_count": null,
   "metadata": {},
   "outputs": [],
   "source": []
  },
  {
   "cell_type": "code",
   "execution_count": null,
   "metadata": {},
   "outputs": [],
   "source": [
    "# Define the columns to use as features\n",
    "selected_columns = ['bathrooms', 'bedrooms', 'beds']\n",
    "\n",
    "# Drop missing values\n",
    "df_selected.dropna(inplace=True)\n",
    "\n",
    "# Define X and y\n",
    "X = df_selected[selected_columns[:-1]]  # Features: bathrooms, bedrooms, beds\n",
    "y = (df_selected['price'] > 500).astype(int)  # Target: 1 if price is over $500, 0 if under $500\n",
    "\n",
    "\n",
    "# Standardize numerical features\n",
    "scaler = StandardScaler()\n",
    "X_scaled = scaler.fit_transform(X)\n",
    "\n",
    "\n",
    "# Display basic information about the dataset\n",
    "print(df.info())\n",
    "\n",
    "# Summary statistics for the selected columns\n",
    "print(df[selected_columns].describe())"
   ]
  },
  {
   "cell_type": "code",
   "execution_count": null,
   "metadata": {},
   "outputs": [],
   "source": [
    "# Split the data into training and testing sets\n",
    "X_train, X_test, y_train, y_test = train_test_split(X_scaled, y, test_size=0.33, random_state=123)\n",
    "# Choose hyperparameters (minimum samples per leaf and maximum depth)\n",
    "min_samples_leaf = 5\n",
    "max_depth = 10"
   ]
  },
  {
   "cell_type": "code",
   "execution_count": null,
   "metadata": {},
   "outputs": [],
   "source": [
    "# Define the hyperparameters to search\n",
    "param_grid = {\n",
    "    'min_samples_leaf': [1, 3, 5, 10],\n",
    "    'max_depth': [None, 10, 20, 30]\n",
    "}\n",
    "\n",
    "# Create a Decision Tree classifier\n",
    "dt_classifier = DecisionTreeClassifier(random_state=123)\n",
    "\n",
    "# Use GridSearchCV to find the best hyperparameters\n",
    "grid_search = GridSearchCV(estimator=dt_classifier, param_grid=param_grid, cv=5, scoring='accuracy')\n",
    "grid_search.fit(X_train, y_train)\n",
    "\n",
    "# Get the best hyperparameters\n",
    "best_params = grid_search.best_params_\n",
    "print(\"Best Hyperparameters:\", best_params)\n",
    "\n",
    "# Train a Decision Tree classifier with the best hyperparameters\n",
    "# Create Decision Tree classifier\n",
    "best_dt_classifier = DecisionTreeClassifier(min_samples_leaf=best_params['min_samples_leaf'], max_depth=best_params['max_depth'], random_state=123)\n",
    "\n",
    "# Fit the model to the training data\n",
    "best_dt_classifier.fit(X_train, y_train)\n",
    "\n",
    "# Make predictions on the test data\n",
    "y_pred = best_dt_classifier.predict(X_test)\n",
    "\n",
    "# Calculate accuracy score\n",
    "accuracy = accuracy_score(y_test, y_pred)\n",
    "print(\"Accuracy:\", accuracy)"
   ]
  },
  {
   "cell_type": "code",
   "execution_count": null,
   "metadata": {},
   "outputs": [],
   "source": []
  },
  {
   "cell_type": "code",
   "execution_count": null,
   "metadata": {},
   "outputs": [],
   "source": [
    "\n",
    "# Call the train_test_DT function\n",
    "accuracy = best_dt_classifier(X_train, X_test, y_train, y_test, min_samples_leaf, max_depth)\n",
    "\n",
    "# Print the accuracy of the Decision Tree classifier\n",
    "print(\"Accuracy:\", accuracy)"
   ]
  },
  {
   "cell_type": "code",
   "execution_count": null,
   "metadata": {
    "scrolled": true
   },
   "outputs": [],
   "source": [
    "# Ex: Assume best_dt_classifier is trained and now there is a new listing as new_listing\n",
    "# Ex: new_listing = {'bathrooms': 2, 'bedrooms': 3, 'beds': 2}\n",
    "\n",
    "\n",
    "# Assume there is a new Airbnb listing with features: bathrooms, bedrooms, beds\n",
    "new_listing = [[2, 3, 2]]  # Example features for the new listing\n",
    "\n",
    "# Convert the new listing to a DataFrame\n",
    "new_listing_df = pd.DataFrame(new_listing, columns=selected_columns[:-1])\n",
    "\n",
    "# Standardize numerical features using the same scaler used for the training data\n",
    "new_listing_scaled = scaler.transform(new_listing_df[selected_columns])\n",
    "\n",
    "# Use the trained Decision Tree classifier to predict the class label\n",
    "predicted_class = best_dt_classifier.predict(new_listing_scaled)\n",
    "\n",
    "# Convert the predicted class label to \"Over $500\" or \"Under $500\"\n",
    "predicted_price_range = \"Over $500\" if predicted_class[0] == 1 else \"Under $500\"\n",
    "\n",
    "# Print the prediction\n",
    "print(\"Predicted price range for the new Airbnb listing:\", predicted_price_range)"
   ]
  },
  {
   "cell_type": "code",
   "execution_count": null,
   "metadata": {},
   "outputs": [],
   "source": [
    "\n"
   ]
  },
  {
   "cell_type": "code",
   "execution_count": null,
   "metadata": {},
   "outputs": [],
   "source": []
  },
  {
   "cell_type": "code",
   "execution_count": null,
   "metadata": {},
   "outputs": [],
   "source": []
  },
  {
   "cell_type": "code",
   "execution_count": null,
   "metadata": {},
   "outputs": [],
   "source": []
  }
 ],
 "metadata": {
  "kernelspec": {
   "display_name": "Python 3",
   "language": "python",
   "name": "python3"
  },
  "language_info": {
   "codemirror_mode": {
    "name": "ipython",
    "version": 3
   },
   "file_extension": ".py",
   "mimetype": "text/x-python",
   "name": "python",
   "nbconvert_exporter": "python",
   "pygments_lexer": "ipython3",
   "version": "3.6.9"
  },
  "toc": {
   "base_numbering": 1,
   "nav_menu": {},
   "number_sections": false,
   "sideBar": true,
   "skip_h1_title": false,
   "title_cell": "Table of Contents",
   "title_sidebar": "Contents",
   "toc_cell": false,
   "toc_position": {},
   "toc_section_display": true,
   "toc_window_display": false
  },
  "varInspector": {
   "cols": {
    "lenName": 16,
    "lenType": 16,
    "lenVar": 40
   },
   "kernels_config": {
    "python": {
     "delete_cmd_postfix": "",
     "delete_cmd_prefix": "del ",
     "library": "var_list.py",
     "varRefreshCmd": "print(var_dic_list())"
    },
    "r": {
     "delete_cmd_postfix": ") ",
     "delete_cmd_prefix": "rm(",
     "library": "var_list.r",
     "varRefreshCmd": "cat(var_dic_list()) "
    }
   },
   "types_to_exclude": [
    "module",
    "function",
    "builtin_function_or_method",
    "instance",
    "_Feature"
   ],
   "window_display": false
  }
 },
 "nbformat": 4,
 "nbformat_minor": 2
}
