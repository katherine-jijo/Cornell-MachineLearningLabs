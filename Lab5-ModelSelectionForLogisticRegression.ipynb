{
 "cells": [
  {
   "cell_type": "markdown",
   "metadata": {},
   "source": [
    "# Lab 5: Model Selection for Logistic Regression"
   ]
  },
  {
   "cell_type": "code",
   "execution_count": 1,
   "metadata": {},
   "outputs": [],
   "source": [
    "import pandas as pd\n",
    "import numpy as np\n",
    "import os \n",
    "import matplotlib.pyplot as plt\n",
    "import seaborn as sns\n",
    "\n",
    "from sklearn.model_selection import train_test_split, GridSearchCV\n",
    "from sklearn.linear_model import LogisticRegression\n",
    "from sklearn.metrics import accuracy_score, confusion_matrix, precision_recall_curve\n"
   ]
  },
  {
   "cell_type": "markdown",
   "metadata": {},
   "source": [
    "In this lab assignment, you will:\n",
    "\n",
    "1. Load the Airbnb \"listings\" data set.\n",
    "2. Train and test a logistic regression (LR) model using the scikit-learn default hyperparameter values.\n",
    "2. Perform a grid search to identify the LR hyperparameter value that results in the best cross-validation score.\n",
    "3. Fit the optimal model to the training data and make predictions on the test data.\n",
    "4. Create a confusion matrix for both models.\n",
    "5. Plot a precision-recall curve for both models.\n",
    "6. Plot the ROC and compute the AUC for both models.\n",
    "7. Perform feature selection.\n",
    "\n",
    "**<font color='red'>Note: Some of the code cells in this notebook may take a while to run.</font>**"
   ]
  },
  {
   "cell_type": "markdown",
   "metadata": {},
   "source": [
    "## Part 1: Load the Data Set"
   ]
  },
  {
   "cell_type": "markdown",
   "metadata": {},
   "source": [
    "We will work with a preprocessed version of the Airbnb NYC \"listings\" data set. \n",
    "\n",
    "<b>Task</b>: In the code cell below, use the same method you have been using to load the data using `pd.read_csv()` and save it to DataFrame `df`.\n",
    "\n",
    "You will be working with the file named \"airbnb_readytofit.csv.gz\" that is located in a folder named \"data\"."
   ]
  },
  {
   "cell_type": "code",
   "execution_count": 2,
   "metadata": {},
   "outputs": [
    {
     "name": "stdout",
     "output_type": "stream",
     "text": [
      "   host_is_superhost  host_has_profile_pic  host_identity_verified  \\\n",
      "0              False                  True                    True   \n",
      "1              False                  True                    True   \n",
      "2              False                  True                    True   \n",
      "3              False                  True                   False   \n",
      "4              False                  True                    True   \n",
      "\n",
      "   has_availability  instant_bookable  host_response_rate  \\\n",
      "0              True             False           -0.578829   \n",
      "1              True             False           -4.685756   \n",
      "2              True             False            0.578052   \n",
      "3              True             False            0.578052   \n",
      "4              True             False           -0.054002   \n",
      "\n",
      "   host_acceptance_rate  host_listings_count  host_total_listings_count  \\\n",
      "0             -2.845589            -0.054298                  -0.054298   \n",
      "1             -0.430024            -0.112284                  -0.112284   \n",
      "2             -2.473964            -0.112284                  -0.112284   \n",
      "3              1.010024            -0.112284                  -0.112284   \n",
      "4             -0.066308            -0.112284                  -0.112284   \n",
      "\n",
      "   accommodates  ...  n_host_verifications  \\\n",
      "0     -1.007673  ...              1.888373   \n",
      "1      0.067470  ...              0.409419   \n",
      "2      0.605041  ...             -1.069535   \n",
      "3     -0.470102  ...             -0.576550   \n",
      "4     -1.007673  ...              0.902404   \n",
      "\n",
      "   neighbourhood_group_cleansed_Bronx  neighbourhood_group_cleansed_Brooklyn  \\\n",
      "0                                 0.0                                    0.0   \n",
      "1                                 0.0                                    1.0   \n",
      "2                                 0.0                                    1.0   \n",
      "3                                 0.0                                    0.0   \n",
      "4                                 0.0                                    0.0   \n",
      "\n",
      "   neighbourhood_group_cleansed_Manhattan  \\\n",
      "0                                     1.0   \n",
      "1                                     0.0   \n",
      "2                                     0.0   \n",
      "3                                     1.0   \n",
      "4                                     1.0   \n",
      "\n",
      "   neighbourhood_group_cleansed_Queens  \\\n",
      "0                                  0.0   \n",
      "1                                  0.0   \n",
      "2                                  0.0   \n",
      "3                                  0.0   \n",
      "4                                  0.0   \n",
      "\n",
      "   neighbourhood_group_cleansed_Staten Island  room_type_Entire home/apt  \\\n",
      "0                                         0.0                        1.0   \n",
      "1                                         0.0                        1.0   \n",
      "2                                         0.0                        1.0   \n",
      "3                                         0.0                        0.0   \n",
      "4                                         0.0                        0.0   \n",
      "\n",
      "   room_type_Hotel room  room_type_Private room  room_type_Shared room  \n",
      "0                   0.0                     0.0                    0.0  \n",
      "1                   0.0                     0.0                    0.0  \n",
      "2                   0.0                     0.0                    0.0  \n",
      "3                   0.0                     1.0                    0.0  \n",
      "4                   0.0                     1.0                    0.0  \n",
      "\n",
      "[5 rows x 50 columns]\n"
     ]
    }
   ],
   "source": [
    "\n",
    "# File path\n",
    "file_path = 'data/airbnb_readytofit.csv.gz'\n",
    "\n",
    "# Load the data into a DataFrame\n",
    "df = pd.read_csv(file_path)\n",
    "\n",
    "# Display the first few rows of the DataFrame\n",
    "print(df.head())"
   ]
  },
  {
   "cell_type": "markdown",
   "metadata": {},
   "source": [
    "## Part 2: Create Training and Test Data Sets"
   ]
  },
  {
   "cell_type": "markdown",
   "metadata": {},
   "source": [
    "### Create Labeled Examples \n",
    "\n",
    "<b>Task</b>: Create labeled examples from DataFrame `df`. \n",
    "In the code cell below, carry out the following steps:\n",
    "\n",
    "* Get the `host_is_superhost` column from DataFrame `df` and assign it to the variable `y`. This will be our label.\n",
    "* Get all other columns from DataFrame `df` and assign them to the variable `X`. These will be our features. "
   ]
  },
  {
   "cell_type": "markdown",
   "metadata": {},
   "source": [
    "First, we will store the label column as a separate object, called `y`, and consequently remove that column from the `X` feature set:"
   ]
  },
  {
   "cell_type": "code",
   "execution_count": 4,
   "metadata": {},
   "outputs": [],
   "source": [
    "# Separate the label column 'host_is_superhost' and assign it to y\n",
    "y = df['host_is_superhost']\n",
    "\n",
    "# Remove the 'host_is_superhost' column from the feature set X\n",
    "X = df.drop('host_is_superhost', axis=1)\n"
   ]
  },
  {
   "cell_type": "markdown",
   "metadata": {},
   "source": [
    "### Split Labeled Examples Into Training and Test Sets\n",
    "\n",
    "<b>Task</b>: In the code cell below, create training and test sets out of the labeled examples. \n",
    "\n",
    "1. Use scikit-learn's `train_test_split()` function to create the data sets.\n",
    "\n",
    "2. Specify:\n",
    "    * A test set that is 10 percent of the size of the data set.\n",
    "    * A seed value of '1234'. \n",
    "    \n"
   ]
  },
  {
   "cell_type": "code",
   "execution_count": 5,
   "metadata": {},
   "outputs": [],
   "source": [
    "X_train, X_test, y_train, y_test = train_test_split(X, y, test_size=0.1, random_state=1234)\n"
   ]
  },
  {
   "cell_type": "code",
   "execution_count": 6,
   "metadata": {
    "scrolled": true
   },
   "outputs": [
    {
     "data": {
      "text/html": [
       "<div>\n",
       "<style scoped>\n",
       "    .dataframe tbody tr th:only-of-type {\n",
       "        vertical-align: middle;\n",
       "    }\n",
       "\n",
       "    .dataframe tbody tr th {\n",
       "        vertical-align: top;\n",
       "    }\n",
       "\n",
       "    .dataframe thead th {\n",
       "        text-align: right;\n",
       "    }\n",
       "</style>\n",
       "<table border=\"1\" class=\"dataframe\">\n",
       "  <thead>\n",
       "    <tr style=\"text-align: right;\">\n",
       "      <th></th>\n",
       "      <th>host_has_profile_pic</th>\n",
       "      <th>host_identity_verified</th>\n",
       "      <th>has_availability</th>\n",
       "      <th>instant_bookable</th>\n",
       "      <th>host_response_rate</th>\n",
       "      <th>host_acceptance_rate</th>\n",
       "      <th>host_listings_count</th>\n",
       "      <th>host_total_listings_count</th>\n",
       "      <th>accommodates</th>\n",
       "      <th>bathrooms</th>\n",
       "      <th>...</th>\n",
       "      <th>n_host_verifications</th>\n",
       "      <th>neighbourhood_group_cleansed_Bronx</th>\n",
       "      <th>neighbourhood_group_cleansed_Brooklyn</th>\n",
       "      <th>neighbourhood_group_cleansed_Manhattan</th>\n",
       "      <th>neighbourhood_group_cleansed_Queens</th>\n",
       "      <th>neighbourhood_group_cleansed_Staten Island</th>\n",
       "      <th>room_type_Entire home/apt</th>\n",
       "      <th>room_type_Hotel room</th>\n",
       "      <th>room_type_Private room</th>\n",
       "      <th>room_type_Shared room</th>\n",
       "    </tr>\n",
       "  </thead>\n",
       "  <tbody>\n",
       "    <tr>\n",
       "      <th>326</th>\n",
       "      <td>True</td>\n",
       "      <td>True</td>\n",
       "      <td>True</td>\n",
       "      <td>False</td>\n",
       "      <td>-0.868049</td>\n",
       "      <td>-2.706229</td>\n",
       "      <td>-0.120567</td>\n",
       "      <td>-0.120567</td>\n",
       "      <td>-0.470102</td>\n",
       "      <td>-0.337606</td>\n",
       "      <td>...</td>\n",
       "      <td>-0.083566</td>\n",
       "      <td>0.0</td>\n",
       "      <td>0.0</td>\n",
       "      <td>1.0</td>\n",
       "      <td>0.0</td>\n",
       "      <td>0.0</td>\n",
       "      <td>1.0</td>\n",
       "      <td>0.0</td>\n",
       "      <td>0.0</td>\n",
       "      <td>0.0</td>\n",
       "    </tr>\n",
       "    <tr>\n",
       "      <th>26890</th>\n",
       "      <td>True</td>\n",
       "      <td>False</td>\n",
       "      <td>True</td>\n",
       "      <td>False</td>\n",
       "      <td>0.578052</td>\n",
       "      <td>1.010024</td>\n",
       "      <td>-0.120567</td>\n",
       "      <td>-0.120567</td>\n",
       "      <td>0.605041</td>\n",
       "      <td>-0.337606</td>\n",
       "      <td>...</td>\n",
       "      <td>-1.562519</td>\n",
       "      <td>0.0</td>\n",
       "      <td>0.0</td>\n",
       "      <td>0.0</td>\n",
       "      <td>1.0</td>\n",
       "      <td>0.0</td>\n",
       "      <td>1.0</td>\n",
       "      <td>0.0</td>\n",
       "      <td>0.0</td>\n",
       "      <td>0.0</td>\n",
       "    </tr>\n",
       "    <tr>\n",
       "      <th>16767</th>\n",
       "      <td>True</td>\n",
       "      <td>True</td>\n",
       "      <td>True</td>\n",
       "      <td>False</td>\n",
       "      <td>0.578052</td>\n",
       "      <td>0.638399</td>\n",
       "      <td>-0.112284</td>\n",
       "      <td>-0.112284</td>\n",
       "      <td>-0.470102</td>\n",
       "      <td>-0.337606</td>\n",
       "      <td>...</td>\n",
       "      <td>1.395388</td>\n",
       "      <td>0.0</td>\n",
       "      <td>1.0</td>\n",
       "      <td>0.0</td>\n",
       "      <td>0.0</td>\n",
       "      <td>0.0</td>\n",
       "      <td>1.0</td>\n",
       "      <td>0.0</td>\n",
       "      <td>0.0</td>\n",
       "      <td>0.0</td>\n",
       "    </tr>\n",
       "    <tr>\n",
       "      <th>27743</th>\n",
       "      <td>True</td>\n",
       "      <td>True</td>\n",
       "      <td>True</td>\n",
       "      <td>True</td>\n",
       "      <td>0.288832</td>\n",
       "      <td>1.010024</td>\n",
       "      <td>-0.120567</td>\n",
       "      <td>-0.120567</td>\n",
       "      <td>2.755328</td>\n",
       "      <td>2.036990</td>\n",
       "      <td>...</td>\n",
       "      <td>-1.562519</td>\n",
       "      <td>0.0</td>\n",
       "      <td>0.0</td>\n",
       "      <td>1.0</td>\n",
       "      <td>0.0</td>\n",
       "      <td>0.0</td>\n",
       "      <td>1.0</td>\n",
       "      <td>0.0</td>\n",
       "      <td>0.0</td>\n",
       "      <td>0.0</td>\n",
       "    </tr>\n",
       "    <tr>\n",
       "      <th>9783</th>\n",
       "      <td>True</td>\n",
       "      <td>False</td>\n",
       "      <td>True</td>\n",
       "      <td>False</td>\n",
       "      <td>0.578052</td>\n",
       "      <td>1.010024</td>\n",
       "      <td>-0.104000</td>\n",
       "      <td>-0.104000</td>\n",
       "      <td>0.605041</td>\n",
       "      <td>-0.337606</td>\n",
       "      <td>...</td>\n",
       "      <td>-1.069535</td>\n",
       "      <td>0.0</td>\n",
       "      <td>0.0</td>\n",
       "      <td>1.0</td>\n",
       "      <td>0.0</td>\n",
       "      <td>0.0</td>\n",
       "      <td>1.0</td>\n",
       "      <td>0.0</td>\n",
       "      <td>0.0</td>\n",
       "      <td>0.0</td>\n",
       "    </tr>\n",
       "  </tbody>\n",
       "</table>\n",
       "<p>5 rows × 49 columns</p>\n",
       "</div>"
      ],
      "text/plain": [
       "       host_has_profile_pic  host_identity_verified  has_availability  \\\n",
       "326                    True                    True              True   \n",
       "26890                  True                   False              True   \n",
       "16767                  True                    True              True   \n",
       "27743                  True                    True              True   \n",
       "9783                   True                   False              True   \n",
       "\n",
       "       instant_bookable  host_response_rate  host_acceptance_rate  \\\n",
       "326               False           -0.868049             -2.706229   \n",
       "26890             False            0.578052              1.010024   \n",
       "16767             False            0.578052              0.638399   \n",
       "27743              True            0.288832              1.010024   \n",
       "9783              False            0.578052              1.010024   \n",
       "\n",
       "       host_listings_count  host_total_listings_count  accommodates  \\\n",
       "326              -0.120567                  -0.120567     -0.470102   \n",
       "26890            -0.120567                  -0.120567      0.605041   \n",
       "16767            -0.112284                  -0.112284     -0.470102   \n",
       "27743            -0.120567                  -0.120567      2.755328   \n",
       "9783             -0.104000                  -0.104000      0.605041   \n",
       "\n",
       "       bathrooms  ...  n_host_verifications  \\\n",
       "326    -0.337606  ...             -0.083566   \n",
       "26890  -0.337606  ...             -1.562519   \n",
       "16767  -0.337606  ...              1.395388   \n",
       "27743   2.036990  ...             -1.562519   \n",
       "9783   -0.337606  ...             -1.069535   \n",
       "\n",
       "       neighbourhood_group_cleansed_Bronx  \\\n",
       "326                                   0.0   \n",
       "26890                                 0.0   \n",
       "16767                                 0.0   \n",
       "27743                                 0.0   \n",
       "9783                                  0.0   \n",
       "\n",
       "       neighbourhood_group_cleansed_Brooklyn  \\\n",
       "326                                      0.0   \n",
       "26890                                    0.0   \n",
       "16767                                    1.0   \n",
       "27743                                    0.0   \n",
       "9783                                     0.0   \n",
       "\n",
       "       neighbourhood_group_cleansed_Manhattan  \\\n",
       "326                                       1.0   \n",
       "26890                                     0.0   \n",
       "16767                                     0.0   \n",
       "27743                                     1.0   \n",
       "9783                                      1.0   \n",
       "\n",
       "       neighbourhood_group_cleansed_Queens  \\\n",
       "326                                    0.0   \n",
       "26890                                  1.0   \n",
       "16767                                  0.0   \n",
       "27743                                  0.0   \n",
       "9783                                   0.0   \n",
       "\n",
       "       neighbourhood_group_cleansed_Staten Island  room_type_Entire home/apt  \\\n",
       "326                                           0.0                        1.0   \n",
       "26890                                         0.0                        1.0   \n",
       "16767                                         0.0                        1.0   \n",
       "27743                                         0.0                        1.0   \n",
       "9783                                          0.0                        1.0   \n",
       "\n",
       "       room_type_Hotel room  room_type_Private room  room_type_Shared room  \n",
       "326                     0.0                     0.0                    0.0  \n",
       "26890                   0.0                     0.0                    0.0  \n",
       "16767                   0.0                     0.0                    0.0  \n",
       "27743                   0.0                     0.0                    0.0  \n",
       "9783                    0.0                     0.0                    0.0  \n",
       "\n",
       "[5 rows x 49 columns]"
      ]
     },
     "execution_count": 6,
     "metadata": {},
     "output_type": "execute_result"
    }
   ],
   "source": [
    "X_train.head()"
   ]
  },
  {
   "cell_type": "markdown",
   "metadata": {},
   "source": [
    "## Part 3: Fit and Evaluate a Logistic Regression Model With Default Hyperparameter Values"
   ]
  },
  {
   "cell_type": "markdown",
   "metadata": {},
   "source": [
    "<b>Task</b>: In the code cell below:\n",
    "\n",
    "1. Using the scikit-learn `LogisticRegression` class, create a logistic regression model object with the following arguments: `max_iter=1000`. You will use the scikit-learn default value for hyperparameter $C$, which is 1.0. Assign the model object to the variable `model_default`.\n",
    "\n",
    "2. Fit the model to the training data."
   ]
  },
  {
   "cell_type": "code",
   "execution_count": 7,
   "metadata": {},
   "outputs": [
    {
     "data": {
      "text/plain": [
       "LogisticRegression(C=1.0, class_weight=None, dual=False, fit_intercept=True,\n",
       "                   intercept_scaling=1, l1_ratio=None, max_iter=1000,\n",
       "                   multi_class='auto', n_jobs=None, penalty='l2',\n",
       "                   random_state=None, solver='lbfgs', tol=0.0001, verbose=0,\n",
       "                   warm_start=False)"
      ]
     },
     "execution_count": 7,
     "metadata": {},
     "output_type": "execute_result"
    }
   ],
   "source": [
    "\n",
    "# 1. Create the LogisticRegression model object with max_iter=1000\n",
    "model_default = LogisticRegression(max_iter=1000)\n",
    "\n",
    "# 2. Fit the model to the training data\n",
    "model_default.fit(X_train, y_train)\n"
   ]
  },
  {
   "cell_type": "markdown",
   "metadata": {},
   "source": [
    "<b>Task:</b> Test your model on the test set (`X_test`). \n",
    "\n",
    "1. Use the ``predict_proba()`` method  to use the fitted model to predict class probabilities for the test set. Note that the `predict_proba()` method returns two columns, one column per class label. The first column contains the probability that an unlabeled example belongs to class `False` (`host_is_superhost` is \"False\") and the second column contains the probability that an unlabeled example belongs to class `True` (`host_is_superhost` is \"True\"). Save the values of the *second* column to a list called ``proba_predictions_default``.\n",
    "\n",
    "2. Use the ```predict()``` method to use the fitted model `model_default` to predict the class labels for the test set. Store the outcome in the variable ```class_label_predictions_default```. Note that the `predict()` method returns the class label (True or False) per unlabeled example."
   ]
  },
  {
   "cell_type": "code",
   "execution_count": 8,
   "metadata": {},
   "outputs": [],
   "source": [
    "# 1. Make predictions on the test data using the predict_proba() method\n",
    "proba_predictions_default = model_default.predict_proba(X_test)[:, 1]\n",
    "\n",
    "# 2. Make predictions on the test data using the predict() method\n",
    "class_label_predictions_default = model_default.predict(X_test)\n"
   ]
  },
  {
   "cell_type": "markdown",
   "metadata": {},
   "source": [
    "<b>Task</b>: Evaluate the accuracy of the model using a confusion matrix. In the cell below, create a confusion matrix out of `y_test` and `class_label_predictions_default`.\n",
    "\n",
    "First, create the confusion matrix, then create a Pandas DataFrame out of the confusion matrix for display purposes.\n",
    "Recall that we are predicting whether the host is a 'superhost' or not. Label the confusion matrix accordingly."
   ]
  },
  {
   "cell_type": "code",
   "execution_count": 9,
   "metadata": {},
   "outputs": [
    {
     "name": "stdout",
     "output_type": "stream",
     "text": [
      "              Predicted False  Predicted True\n",
      "Actual False             1997              91\n",
      "Actual True               450             265\n"
     ]
    }
   ],
   "source": [
    "\n",
    "# Create the confusion matrix\n",
    "cm_default = confusion_matrix(y_test, class_label_predictions_default)\n",
    "\n",
    "# Create a DataFrame from the confusion matrix\n",
    "confusion_matrix_df = pd.DataFrame(cm_default, index=['Actual False', 'Actual True'], columns=['Predicted False', 'Predicted True'])\n",
    "\n",
    "print(confusion_matrix_df)"
   ]
  },
  {
   "cell_type": "markdown",
   "metadata": {},
   "source": [
    "## Part 4: Perform Logistic Regression Model Selection Using `GridSearchSV`\n",
    "\n",
    "Our goal is to find the optimal choice of hyperparameter $C$. "
   ]
  },
  {
   "cell_type": "markdown",
   "metadata": {},
   "source": [
    "### Set Up a Parameter Grid \n",
    "\n",
    "The code cell below creates a dictionary called `param_grid` with:\n",
    "* a key called 'C' \n",
    "* a value which is a list consisting of 10 values for the hyperparameter $C$\n",
    "\n",
    "It uses a scikit-learn function `11_min_c()` to assist in the creation of possible values for $C$. For more information, consult the online [documentation](https://scikit-learn.org/stable/modules/generated/sklearn.svm.l1_min_c.html)."
   ]
  },
  {
   "cell_type": "code",
   "execution_count": 11,
   "metadata": {},
   "outputs": [
    {
     "data": {
      "text/plain": [
       "{'C': [0.0001537633581917429,\n",
       "  0.0004503182232067712,\n",
       "  0.0013188220167462046,\n",
       "  0.0038623609310518637,\n",
       "  0.011311482347345912,\n",
       "  0.03312731129440893,\n",
       "  0.09701812016301883,\n",
       "  0.28413159028558327,\n",
       "  0.8321204375281983,\n",
       "  2.436984996480532,\n",
       "  7.137062864015964,\n",
       "  20.901920364088983,\n",
       "  61.214295464518635,\n",
       "  179.2749136895258,\n",
       "  525.0325015504883,\n",
       "  1537.633581917429]}"
      ]
     },
     "execution_count": 11,
     "metadata": {},
     "output_type": "execute_result"
    }
   ],
   "source": [
    "from sklearn.svm import l1_min_c\n",
    "\n",
    "cs = l1_min_c(X_train, y_train, loss=\"log\") * np.logspace(0, 7, 16)\n",
    "param_grid = dict(C = list(cs))\n",
    "param_grid"
   ]
  },
  {
   "cell_type": "markdown",
   "metadata": {},
   "source": [
    "### Perform Grid Search Cross-Validation"
   ]
  },
  {
   "cell_type": "markdown",
   "metadata": {},
   "source": [
    "<b>Task:</b> Use `GridSearchCV` to search over the different values of hyperparameter $C$ to find the one that results in the best cross-validation (CV) score.\n",
    "\n",
    "Complete the code in the cell below."
   ]
  },
  {
   "cell_type": "code",
   "execution_count": 12,
   "metadata": {},
   "outputs": [
    {
     "name": "stdout",
     "output_type": "stream",
     "text": [
      "Running Grid Search...\n",
      "Done\n"
     ]
    }
   ],
   "source": [
    "print('Running Grid Search...')\n",
    "\n",
    "# 1. Create a LogisticRegression model object with the argument max_iter=1000. \n",
    "#    Save the model object to the variable 'model'\n",
    "model_default = LogisticRegression(max_iter=1000)\n",
    "\n",
    "# 2. Run a grid search with 5-fold cross-validation and assign the output to the \n",
    "# object 'grid'.\n",
    "param_grid = {'C': list(cs)}\n",
    "grid = GridSearchCV(estimator=model_default, param_grid=param_grid, cv=5, scoring='accuracy')\n",
    "\n",
    "\n",
    "# 3. Fit the model on the training data and assign the fitted model to the \n",
    "#    variable 'grid_search'\n",
    "grid_search = grid.fit(X_train, y_train)\n",
    "\n",
    "print('Done')"
   ]
  },
  {
   "cell_type": "markdown",
   "metadata": {},
   "source": [
    "<b>Task</b>: Retrieve the value of the hyperparameter $C$ for which the best score was attained. Save the result to the variable `best_c`."
   ]
  },
  {
   "cell_type": "code",
   "execution_count": 21,
   "metadata": {},
   "outputs": [
    {
     "name": "stdout",
     "output_type": "stream",
     "text": [
      "Best C value: 525.0325015504883\n"
     ]
    }
   ],
   "source": [
    "best_c = grid_search.best_params_['C']\n",
    "print(\"Best C value:\", best_c)"
   ]
  },
  {
   "cell_type": "markdown",
   "metadata": {},
   "source": [
    "## Part 5: Fit and Evaluate the Optimal Logistic Regression Model "
   ]
  },
  {
   "cell_type": "markdown",
   "metadata": {},
   "source": [
    "<b>Task</b>: Initialize a `LogisticRegression` model object with the best value of hyperparameter `C` model and fit the model to the training data. The model object should be named `model_best`. Note: Supply `max_iter=1000` as an argument when creating the model object."
   ]
  },
  {
   "cell_type": "code",
   "execution_count": 22,
   "metadata": {},
   "outputs": [
    {
     "data": {
      "text/plain": [
       "LogisticRegression(C=525.0325015504883, class_weight=None, dual=False,\n",
       "                   fit_intercept=True, intercept_scaling=1, l1_ratio=None,\n",
       "                   max_iter=1000, multi_class='auto', n_jobs=None, penalty='l2',\n",
       "                   random_state=None, solver='lbfgs', tol=0.0001, verbose=0,\n",
       "                   warm_start=False)"
      ]
     },
     "execution_count": 22,
     "metadata": {},
     "output_type": "execute_result"
    }
   ],
   "source": [
    "# 1. Create the  model object below and assign to variable 'model_best'\n",
    "model_best = LogisticRegression(C=best_c, max_iter=1000)\n",
    "\n",
    "# 2. Fit the model to the training data below\n",
    "model_best.fit(X_train, y_train)\n"
   ]
  },
  {
   "cell_type": "markdown",
   "metadata": {},
   "source": [
    "<b>Task:</b> Test your model on the test set (`X_test`).\n",
    "\n",
    "1. Use the ``predict_proba()`` method  to use the fitted model `model_best` to predict class probabilities for the test set. Save the values of the *second* column to a list called ``proba_predictions_best``.\n",
    "\n",
    "2. Use the ```predict()``` method to use the fitted model `model_best` to predict the class labels for the test set. Store the outcome in the variable ```class_label_predictions_best```. "
   ]
  },
  {
   "cell_type": "code",
   "execution_count": 23,
   "metadata": {},
   "outputs": [],
   "source": [
    "# 1. Make predictions on the test data using the predict_proba() method\n",
    "proba_predictions_best = model_best.predict_proba(X_test)[:, 1]\n",
    "# 2. Make predictions on the test data using the predict() method\n",
    "class_label_predictions_best = model_best.predict(X_test)\n"
   ]
  },
  {
   "cell_type": "markdown",
   "metadata": {},
   "source": [
    "<b>Task</b>: Evaluate the accuracy of the model using a confusion matrix. In the cell below, create a confusion matrix out of `y_test` and `class_label_predictions_best`."
   ]
  },
  {
   "cell_type": "code",
   "execution_count": 28,
   "metadata": {},
   "outputs": [
    {
     "name": "stdout",
     "output_type": "stream",
     "text": [
      "                True (Predicted)  False (Predicted)\n",
      "True (Actual)               2000                 88\n",
      "False (Actual)               445                270\n"
     ]
    }
   ],
   "source": [
    "\n",
    "# Create the confusion matrix\n",
    "conf_matrix = confusion_matrix(y_test, class_label_predictions_best)\n",
    "\n",
    "# Create a Pandas DataFrame from the confusion matrix for display purposes\n",
    "conf_matrix_df = pd.DataFrame(conf_matrix, index=['True (Actual)', 'False (Actual)'],\n",
    "                              columns=['True (Predicted)', 'False (Predicted)'])\n",
    "\n",
    "print(conf_matrix_df)\n"
   ]
  },
  {
   "cell_type": "markdown",
   "metadata": {},
   "source": [
    "## Part 6:  Plot Precision-Recall Curves for Both Models"
   ]
  },
  {
   "cell_type": "markdown",
   "metadata": {},
   "source": [
    "<b>Task:</b> In the code cell below, use `precision_recall_curve()` to compute precision-recall pairs for both models.\n",
    "\n",
    "For `model_default`:\n",
    "* call `precision_recall_curve()` with `y_test` and `proba_predictions_default`\n",
    "* save the output to the variables `precision_default`, `recall_default` and `thresholds_default`, respectively\n",
    "\n",
    "For `model_best`:\n",
    "* call `precision_recall_curve()` with `y_test` and `proba_predictions_best`\n",
    "* save the output to the variables `precision_best`, `recall_best` and `thresholds_best`, respectively\n"
   ]
  },
  {
   "cell_type": "code",
   "execution_count": 36,
   "metadata": {},
   "outputs": [],
   "source": [
    "# Compute precision-recall pairs for model_default\n",
    "precision_default, recall_default, thresholds_default = precision_recall_curve(y_test, proba_predictions_default)\n",
    "\n",
    "# Compute precision-recall pairs for model_best\n",
    "precision_best, recall_best, thresholds_best = precision_recall_curve(y_test, proba_predictions_best)\n"
   ]
  },
  {
   "cell_type": "markdown",
   "metadata": {},
   "source": [
    "In the code cell below, create two `seaborn` lineplots to visualize the precision-recall curve for both models. \"Recall\" will be on the $x$-axis and \"Precision\" will be on the $y$-axis. \n",
    "\n",
    "The plot for \"default\" should be green. The plot for the \"best\" should be red.\n"
   ]
  },
  {
   "cell_type": "code",
   "execution_count": 37,
   "metadata": {},
   "outputs": [
    {
     "data": {
      "image/png": "[encoded data removed]",
      "text/plain": [
       "<Figure size 576x432 with 1 Axes>"
      ]
     },
     "metadata": {},
     "output_type": "display_data"
    }
   ],
   "source": [
    "\n",
    "# Plot the precision-recall curves using Seaborn\n",
    "sns.set_style('whitegrid')\n",
    "plt.figure(figsize=(8, 6))\n",
    "\n",
    "plt.plot(recall_default, precision_default, color='green', label='Default Model')\n",
    "plt.plot(recall_best, precision_best, color='red', label='Best Model')\n",
    "\n",
    "plt.xlabel('Recall')\n",
    "plt.ylabel('Precision')\n",
    "plt.title('Precision-Recall Curves')\n",
    "plt.legend()\n",
    "plt.show()"
   ]
  },
  {
   "cell_type": "markdown",
   "metadata": {},
   "source": [
    "## Part 7: Plot ROC Curves and Compute the AUC for Both Models"
   ]
  },
  {
   "cell_type": "markdown",
   "metadata": {},
   "source": [
    "You will next use scikit-learn's `roc_curve()` function to plot the receiver operating characteristic (ROC) curve and the `auc()` function to compute the area under the curve (AUC) for both models.\n",
    "\n",
    "* An ROC curve plots the performance of a binary classifier for varying classification thresholds. It plots the fraction of true positives out of the positives vs. the fraction of false positives out of the negatives. For more information on how to use the `roc_curve()` function, consult the [scikit-learn documentation](https://scikit-learn.org/stable/modules/generated/sklearn.metrics.roc_curve.html).\n",
    "\n",
    "* The AUC measures the trade-off between the true positive rate and false positive rate. It provides a broad view of the performance of a classifier since it evaluates the performance for all the possible threshold values; it essentially provides a value that summarizes the the ROC curve. For more information on how to use the `auc()` function, consult the [scikit-learn documentation](https://scikit-learn.org/stable/modules/generated/sklearn.metrics.auc.html).\n",
    "\n",
    "Let's first import the functions."
   ]
  },
  {
   "cell_type": "code",
   "execution_count": 38,
   "metadata": {},
   "outputs": [],
   "source": [
    "from sklearn.metrics import roc_curve\n",
    "from sklearn.metrics import auc"
   ]
  },
  {
   "cell_type": "markdown",
   "metadata": {},
   "source": [
    "<b>Task:</b> Using the `roc_curve()` function, record the true positive and false positive rates for both models. \n",
    "\n",
    "1. Call `roc_curve()` with arguments `y_test` and `proba_predictions_default`. The `roc_curve` function produces three outputs. Save the three items to the following variables, respectively: `fpr_default` (standing for 'false positive rate'),  `tpr_default` (standing for 'true positive rate'), and `thresholds_default`.\n",
    "\n",
    "2. Call `roc_curve()` with arguments `y_test` and `proba_predictions_best`. The `roc_curve` function produces three outputs. Save the three items to the following variables, respectively: `fpr_best` (standing for 'false positive rate'),  `tpr_best` (standing for 'true positive rate'), and `thresholds_best`."
   ]
  },
  {
   "cell_type": "code",
   "execution_count": 41,
   "metadata": {},
   "outputs": [],
   "source": [
    "# Compute ROC curve and AUC for model_default\n",
    "fpr_default, tpr_default, thresholds_default = roc_curve(y_test, proba_predictions_default)\n",
    "roc_auc_default = auc(fpr_default, tpr_default)\n",
    "\n",
    "# Compute ROC curve and AUC for model_best\n",
    "fpr_best, tpr_best, thresholds_best = roc_curve(y_test, proba_predictions_best)\n",
    "roc_auc_best = auc(fpr_best, tpr_best)\n"
   ]
  },
  {
   "cell_type": "markdown",
   "metadata": {},
   "source": [
    "<b>Task</b>: Create <b>two</b> `seaborn` lineplots to visualize the ROC curve for both models. \n",
    "\n",
    "The plot for the default hyperparameter should be green. The plot for the best hyperparameter should be red.\n",
    "\n",
    "* In each plot, the `fpr` values should be on the $x$-axis.\n",
    "* In each plot, the`tpr` values should be on the $y$-axis. \n",
    "* In each plot, label the $x$-axis \"False positive rate\".\n",
    "* In each plot, label the $y$-axis \"True positive rate\".\n",
    "* Give each plot the title \"Receiver operating characteristic (ROC) curve\".\n",
    "* Create a legend on each plot indicating that the plot represents either the default hyperparameter value or the best hyperparameter value.\n",
    "\n",
    "<b>Note:</b> It may take a few minutes to produce each plot."
   ]
  },
  {
   "cell_type": "markdown",
   "metadata": {},
   "source": [
    "#### Plot ROC Curve for Default Hyperparameter:"
   ]
  },
  {
   "cell_type": "code",
   "execution_count": 42,
   "metadata": {},
   "outputs": [
    {
     "data": {
      "image/png": "[encoded data removed]",
      "text/plain": [
       "<Figure size 576x432 with 1 Axes>"
      ]
     },
     "metadata": {},
     "output_type": "display_data"
    }
   ],
   "source": [
    "\n",
    "# Plot ROC Curve for Default Hyperparameter\n",
    "plt.figure(figsize=(8, 6))\n",
    "plt.plot(fpr_default, tpr_default, color='green', lw=2, label='Default (AUC = {:.2f})'.format(roc_auc_default))\n",
    "plt.xlabel('False Positive Rate')\n",
    "plt.ylabel('True Positive Rate')\n",
    "plt.title('Receiver Operating Characteristic (ROC) curve - Default Hyperparameter')\n",
    "plt.legend(loc='lower right')\n",
    "plt.show()"
   ]
  },
  {
   "cell_type": "markdown",
   "metadata": {},
   "source": [
    "#### Plot ROC Curve for Best Hyperparameter:"
   ]
  },
  {
   "cell_type": "code",
   "execution_count": 43,
   "metadata": {},
   "outputs": [
    {
     "data": {
      "image/png": "[encoded data removed]",
      "text/plain": [
       "<Figure size 576x432 with 1 Axes>"
      ]
     },
     "metadata": {},
     "output_type": "display_data"
    }
   ],
   "source": [
    "plt.figure(figsize=(8, 6))\n",
    "plt.plot(fpr_best, tpr_best, color='red', lw=2, label='Best (AUC = {:.2f})'.format(roc_auc_best))\n",
    "plt.xlabel('False Positive Rate')\n",
    "plt.ylabel('True Positive Rate')\n",
    "plt.title('Receiver Operating Characteristic (ROC) curve - Best Hyperparameter')\n",
    "plt.legend(loc='lower right')\n",
    "plt.show()\n"
   ]
  },
  {
   "cell_type": "markdown",
   "metadata": {},
   "source": [
    "<b>Task</b>: Use the `auc()` function to compute the area under the receiver operating characteristic (ROC) curve for both models.\n",
    "\n",
    "For each model, call the function with the `fpr` argument first and the `tpr` argument second. \n",
    "\n",
    "Save the result of the `auc()` function for `model_default` to the variable `auc_default`.\n",
    "Save the result of the `auc()` function for `model_best` to the variable `auc_best`. \n",
    "Compare the results."
   ]
  },
  {
   "cell_type": "code",
   "execution_count": 44,
   "metadata": {},
   "outputs": [
    {
     "name": "stdout",
     "output_type": "stream",
     "text": [
      "0.8227761701899632\n",
      "0.8242651984031294\n"
     ]
    }
   ],
   "source": [
    "auc_default = auc(fpr_default, tpr_default)\n",
    "\n",
    "auc_best = auc(fpr_best, tpr_best)\n",
    "\n",
    "print(auc_default)\n",
    "print(auc_best)"
   ]
  },
  {
   "cell_type": "markdown",
   "metadata": {},
   "source": [
    "## Deep Dive: Feature Selection Using SelectKBest"
   ]
  },
  {
   "cell_type": "markdown",
   "metadata": {},
   "source": [
    "In the code cell below, you will see how to use scikit-learn's `SelectKBest` class to obtain the best features in a given data set using a specified scoring function. For more information on how to use `SelectKBest`, consult the online [documentation](https://scikit-learn.org/stable/modules/generated/sklearn.feature_selection.SelectKBest.html).\n",
    "\n",
    "We will extract the best 5 features from the Airbnb \"listings\" data set to create new training data, then fit our model with the optimal hyperparameter $C$ to the data and compute the AUC. Walk through the code to see how it works and complete the steps where prompted. Analyze the results."
   ]
  },
  {
   "cell_type": "code",
   "execution_count": 48,
   "metadata": {},
   "outputs": [
    {
     "name": "stdout",
     "output_type": "stream",
     "text": [
      "Best 5 features:\n",
      "Index(['host_response_rate', 'number_of_reviews', 'number_of_reviews_ltm',\n",
      "       'number_of_reviews_l30d', 'review_scores_cleanliness'],\n",
      "      dtype='object')\n",
      "proba:\n",
      " [[0.63649735 0.36350265]\n",
      " [0.80483065 0.19516935]\n",
      " [0.85804582 0.14195418]\n",
      " ...\n",
      " [0.8020216  0.1979784 ]\n",
      " [0.46513146 0.53486854]\n",
      " [0.94199437 0.05800563]] proba_prediction:\n",
      "s [0.3635026498976155, 0.1951693527695595, 0.14195417583761433, 0.11800025804542359, 0.14994609898897937, 0.8187276853674796, 0.0012453860069090066, 0.0504324857255336, 0.3657963870280068, 0.4290468363140098, 0.12025927481040524, 0.03951270706460206, 0.4407385717956668, 0.46724208683431223, 0.010901674439467463, 0.1668893826181442, 0.44578029744740033, 0.23109367413562412, 0.36759446599513174, 0.1860268244140689, 0.1860268244140689, 0.5029604369487877, 0.18828103662985807, 0.23376462962952035, 0.05356888792021224, 0.3551075521244287, 0.17335112396969798, 0.06443598841975996, 0.19826444638067311, 0.21197897419489578, 0.1860268244140689, 0.13633410890458716, 0.40755469350579276, 0.38700489580188946, 0.23529486606297717, 0.25309043526807934, 0.9794738348886839, 0.5660232443815872, 3.212496576315104e-05, 0.03144087694177551, 0.11563497593119587, 0.39405864810729757, 0.03867773627248115, 0.39114501298246807, 0.00010933333958065547, 0.1871513180056738, 0.012591976625986037, 0.016722421730333524, 0.1674683967229547, 0.14288926445861516, 0.16503791223438058, 0.23287691852367623, 0.4043745043605959, 0.35316179211599585, 0.150829640706478, 0.6827002517546319, 0.08036990880536778, 0.118370378044175, 0.3706172978128688, 0.03673710102041401, 0.2829703995394619, 0.06972178271772764, 0.09860209573316231, 0.41143561810852813, 0.14198426388305824, 0.13186177821731307, 0.18941598556556344, 0.09050405793594732, 0.1860268244140689, 0.18941598556556344, 0.19812191278288732, 0.9155770697313463, 0.004957801594032225, 0.0392324806313851, 0.5696027683880956, 0.19791985306193768, 0.0005561612430370486, 0.05345184024501503, 0.8187080174668804, 0.6712213941344506, 0.9648769441022462, 6.871804477532913e-05, 0.430379968972257, 0.13231392895424862, 0.1860268244140689, 0.09392899650821668, 0.39114501298246807, 0.1603090921420155, 0.18941598556556344, 0.20117548388627768, 0.4925850944105383, 0.41656918775675733, 0.37122392510155233, 0.37122392510155233, 0.4578357072526604, 0.24041846766291414, 0.0880940390665654, 0.1209346398252769, 0.00010824461861196881, 0.07483960376895406, 0.23789029477478477, 0.18941598556556344, 0.1481294596773797, 0.37939097214919537, 0.2333673117256243, 0.8585466181385892, 0.00011542044880415889, 0.19285226342356224, 0.37122392510155233, 0.3983522537005064, 0.16954153903055158, 0.011056975783910636, 0.30113092032980765, 0.39114501298246807, 0.11959056369614933, 0.23820390190214338, 9.117382383546486e-05, 0.1871513180056738, 0.010807703465949952, 0.2155399780860871, 0.1603090921420155, 0.46505287281645635, 0.42030268533079257, 0.37122392510155233, 0.5675817088151938, 0.3556167966295761, 0.111509373129452, 0.38700489580188946, 0.1871513180056738, 0.027496943107254812, 0.16273842739916933, 0.003210871654889382, 0.02315090534120296, 0.37045763052172626, 0.49996932330463056, 0.016282332779652266, 0.17385855173432385, 0.44855380031482206, 0.2899216191023427, 0.19559591606740453, 0.00012460503629385333, 0.49824223359997716, 0.07697023011048638, 0.3946795835280456, 4.57577270035383e-05, 0.1902156010197738, 0.22451284111228886, 0.4882784200102268, 0.39229606491164665, 0.1860268244140689, 0.20188931728447032, 0.49280478965076047, 0.45416522501482315, 0.07997090779602772, 0.1871513180056738, 0.2845840376664868, 0.39114501298246807, 0.016811708354098984, 0.2010800483043792, 0.19400818156590974, 0.18941598556556344, 0.37122392510155233, 0.24278892699670857, 0.15509587768100677, 0.4067252508291226, 0.3752985793107295, 0.4030318972378651, 0.5159613538415642, 0.19839093076952743, 0.6852576295600502, 0.3313427333308879, 0.3959276144698307, 0.2359498578747223, 0.0826791828455874, 0.3131967918278778, 0.08929171505994413, 0.12616346556758856, 0.19170159428741582, 0.385520504857893, 0.0001115002186325946, 0.23184286889600225, 0.010954835351892782, 0.05540912572885201, 0.5045505257276833, 0.2155399780860871, 0.03951270706460206, 0.5136338962614493, 0.06355020081179985, 0.19291302230765922, 0.08026115627088935, 0.5095665158434385, 0.27976415816317834, 0.08950335116764273, 1.050282973575033e-07, 0.09415048745866725, 0.17389403163278025, 0.19750746931489543, 0.3405865450156177, 0.40722437754091234, 0.0670167117359528, 0.9776088243324345, 0.013030696035886222, 0.022203891050851954, 0.2984386009810801, 0.31144766375261806, 0.10144280754096087, 0.1871513180056738, 0.2237481147600274, 3.041612522790042e-05, 0.39114501298246807, 0.1320432417942499, 0.3973426887266222, 0.7047459808670136, 0.1777831214126441, 0.1871513180056738, 0.4635131642889462, 0.18132979653909, 0.24765953725168566, 0.396362794645832, 0.5744204535735266, 0.1361047845467812, 0.37939097214919537, 0.2056426546703998, 0.10814415852504022, 0.1871513180056738, 0.3965424623641416, 0.7487369930095499, 0.053988165624727635, 0.2933864577086525, 0.5086773776234785, 0.051881294699640056, 0.3141257723673256, 0.2822423868989706, 0.18503209115338148, 0.11563497593119587, 0.02299503673638742, 0.031249620772796593, 0.07220516091814348, 0.19170159428741582, 0.45029665144622794, 0.43507697082059266, 0.0002194706377041024, 0.34030349344942495, 0.04027944713179577, 0.1567426898235387, 0.37703722354273295, 0.06703001512936686, 0.22881746635238198, 0.3752985793107295, 0.1860268244140689, 0.4640736142499591, 0.5914323108553535, 0.36889072758421065, 0.3953008590774917, 0.37703722354273295, 0.3775563298827638, 0.41548073576969025, 0.5080818425289026, 0.41629668347585863, 0.508111455804195, 0.41556245412666665, 0.3585185443608644, 0.3706172978128688, 0.15818049896970238, 0.1860268244140689, 0.7962681870253048, 0.1675657834864837, 0.216025779620317, 0.10825537248359804, 0.11277381790978899, 0.05041949210728896, 0.1860268244140689, 0.1871513180056738, 0.38288612231646724, 0.13575359517833038, 0.1871513180056738, 0.37122392510155233, 0.30113092032980765, 0.41259350991135785, 0.203778638819941, 0.050977056565995923, 0.1871513180056738, 0.1871513180056738, 0.40490182225850596, 0.1860268244140689, 0.363026624479287, 0.2069168616418144, 0.2927973478371727, 0.1871513180056738, 0.2576564611934258, 0.37122392510155233, 0.18902984992861688, 0.5087370608980881, 0.4571851218149914, 0.03192956140696646, 0.5793804865705358, 0.1781634651067261, 0.15579837707797076, 0.09111577180307302, 0.42117408302347153, 0.26767062176841666, 0.11563497593119587, 0.114336472881172, 0.04305980633584492, 0.0033511695604427254, 0.27532653754382874, 0.35223261641850323, 0.14881674279129503, 0.16565685497557334, 0.38700489580188946, 0.0880940390665654, 0.011709518654444518, 0.18941598556556344, 0.22985671811341926, 0.5036898988118665, 0.5341917830325636, 0.16762427058920737, 0.025955569978950477, 0.09050405793594732, 0.37295496229813657, 0.9718488109953088, 0.525577670972679, 0.20333127661636852, 0.029030974565549122, 0.20179566417193215, 0.5417580843682149, 1.9057749679900458e-05, 0.37122392510155233, 0.19285226342356224, 0.1888730581042829, 0.1870982913065009, 0.01792295353675754, 0.04073325825915247, 0.16348619847173096, 0.2457628455201397, 0.15190829017083776, 0.38700489580188946, 0.26756680753065754, 0.2687693900717309, 0.09330033460955076, 0.28105117835373367, 0.15004057302119825, 0.48805855111999147, 0.2785105170162898, 0.07646293638853822, 0.2544381054417317, 0.2843343768269281, 0.35731641407502324, 0.3712239251015522, 0.09470645984161195, 0.3279841767127344, 0.5596815145867439, 0.03867773627248115, 0.4291638385746999, 0.46522401780625366, 1.4150227615008972e-05, 0.5237237308969086, 0.8808140104127027, 0.12025927481040524, 0.1860268244140689, 0.2603627790418025, 0.47829424181869606, 0.3945914812326007, 0.2951022306437055, 0.41861095780534086, 0.018278719472483107, 0.21708144261440587, 0.1851198396597051, 0.39176944816823517, 0.1860268244140689, 0.00713745122800171, 0.11166008480300828, 0.17097896166455334, 0.3706172978128688, 0.1871513180056738, 0.1871513180056738, 0.12749448677434494, 0.4284048346036704, 0.03867773627248115, 0.4291170367196649, 0.03867773627248115, 0.1860268244140689, 0.0880940390665654, 0.13146563460435645, 0.3953008590774917, 0.17912008518407946, 0.1905561698522873, 0.022500935481632286, 0.06476922625261537, 0.06830672498594423, 0.16340499425652424, 0.1871513180056738, 0.1860268244140689, 0.3835005949373079, 0.1374722315562033, 0.3465183938312406, 0.1860268244140689, 0.08821976263875372, 0.3988483828327938, 0.40273597228534125, 0.1871513180056738, 0.2802530318141395, 0.388058847065307, 0.007085138283372278, 0.15544176351399464, 0.3752985793107295, 0.037010572005141254, 0.18941598556556344, 0.2913535725630723, 0.2859930110497123, 0.13361232721096028, 0.4073735205440431, 0.43719952063141554, 0.4019601595253312, 0.1184078734676014, 0.1875471321551556, 0.0687797537817354, 0.37122392510155233, 0.3394729309078779, 0.24367273032321782, 0.11389684485366207, 0.37122392510155233, 4.5219946658051214e-06, 0.5276798769792477, 0.09571446253622935, 0.3959693873993155, 0.18828103662985807, 0.21646914363326497, 0.15901924946671786, 5.3623565812223915e-05, 0.13146563460435645, 0.0392324806313851, 0.4480380559099882, 0.14090932184503588, 0.4564353809970327, 0.19285226342356224, 0.09415048745866725, 9.487956368067544e-05, 0.5606672502546366, 0.040942859163593866, 0.1875471321551556, 0.10233577806047701, 0.08302013566588795, 0.447857171994785, 0.1860268244140689, 0.5915652288117901, 0.4578357072526604, 0.37759424966420174, 0.37160304446987463, 0.2764135516928002, 0.22405033393832627, 0.08153454934989084, 0.19626010372737665, 0.1916993812883202, 0.7768092605387463, 0.5578183285963194, 0.5537475994832325, 0.31291117240884525, 0.3092387090432124, 0.3807106452517293, 0.10002663885584667, 0.03867773627248115, 0.12941143351360232, 0.31672898570615643, 0.01792295353675754, 0.1860268244140689, 0.14192205671663013, 0.1551282475987404, 0.20707069121707114, 0.020463964275534947, 0.3066897382864339, 1.9057749679900458e-05, 0.1799787085345883, 0.3722075028312198, 0.0003979530379310697, 0.8541387102222727, 0.09423044322314457, 0.059288440186478, 3.8643952140504883e-05, 0.5076489797847175, 0.5315938012249387, 0.40855974576778764, 0.6701473133916098, 0.41557030057088384, 0.5389986672486811, 0.3320671712149339, 0.1871513180056738, 0.16936194362843043, 0.14110015354728614, 0.1871513180056738, 0.09111577180307302, 0.18659129622474782, 0.07577978151732054, 0.0002194706377041024, 0.03895416097885208, 0.20736820356387295, 0.1875471321551556, 0.2951022306437055, 0.21167524594416193, 0.5113006840833889, 0.08648718866371859, 0.19170159428741582, 0.10208357575886536, 0.7893277012768731, 0.1871513180056738, 0.09733161214794378, 0.18491867630370992, 0.3752985793107295, 0.09643669354383116, 0.13146563460435645, 0.13231392895424862, 0.10177780616783819, 0.2293365761723335, 0.1534307059285181, 0.1860268244140689, 0.0012432377748790818, 0.1772818455183015, 0.007033206043050562, 0.041122251006064287, 0.4277630738173749, 0.6228927127625694, 0.5689759329078039, 0.09384653351873125, 0.18941598556556344, 0.5595828472967791, 0.2511462740936972, 0.1871513180056738, 0.5749044131199809, 0.03895416097885208, 0.3740155566622488, 0.15256702175969483, 0.2415667983919003, 0.17906903177638753, 0.004810715667565844, 0.4326752331958586, 0.1871513180056738, 0.19478816318083922, 0.1065350652538013, 0.007033206043050562, 0.35597569561208986, 0.16309665375535776, 0.36889072758421065, 0.016722421730333524, 0.04038845279888016, 0.09564652706187912, 0.047613146648849615, 0.7274355988674892, 0.03026171119957494, 0.1860268244140689, 0.18955019381458296, 0.7089900103347269, 0.03659695386759886, 0.40210526139908953, 0.15281175659145613, 0.30578308343900334, 0.00298504769887456, 0.15004057302119825, 0.38700489580188946, 0.1871513180056738, 0.18828103662985807, 0.24843139103289538, 0.39947188996516086, 0.19400818156590974, 0.49659348143834986, 0.19170159428741582, 0.18941598556556344, 0.18820554960613017, 0.00017760764634817098, 0.3005383947086236, 0.040942859163593866, 0.3781674905948559, 0.08869105217035923, 0.08679714447961714, 0.49103410770328637, 0.20063401553835114, 0.4853381289705528, 0.18941598556556344, 0.0069724257952310815, 0.37122392510155233, 0.39114501298246807, 0.34295330103959865, 0.13599523168311436, 0.1860268244140689, 0.1902156010197738, 0.26917373466630323, 0.19170159428741582, 3.835435814150511e-05, 0.3600352890181019, 0.3430983402528757, 0.03905160476943149, 0.1302484606932158, 0.21720424913664882, 0.13146563460435645, 0.46640433235290096, 0.4058443929626721, 0.04007892789783187, 0.06943645533043469, 0.03895416097885208, 0.40722437754091234, 0.48930264220376324, 0.3706172978128688, 0.15779010531244367, 0.0392324806313851, 0.0880940390665654, 0.7661674951919529, 0.8753415560597052, 0.17748248819686746, 0.13146563460435645, 0.08929171505994413, 0.3285919207372074, 0.1967907700206473, 0.20224688918895442, 0.3514212148419765, 0.06507908605369009, 0.212757218794805, 0.30239999735359957, 0.01919097511059503, 0.1860268244140689, 0.15590706211143376, 0.1345603870637498, 0.12442041180285023, 0.27713966656034333, 0.1871513180056738, 0.0006060416113604825, 0.4993140058506476, 0.012843307928040145, 0.5514327512600996, 0.381044955751281, 0.6524070880980147, 0.12145757932152884, 0.37939097214919537, 0.19868442149259874, 0.4615214573019953, 0.003585191441056195, 0.14407413245922907, 0.0880940390665654, 0.08869105217035923, 0.09895882879478372, 0.1979784034286287, 0.01338102590721388, 0.2790852319287857, 0.4426020956164299, 0.08259431775741208, 0.0006867246859335307, 0.04302853924263088, 0.39610358100318377, 0.3579318369453297, 0.4560112043756542, 0.38288612231646724, 0.1817031521253106, 0.15256702175969483, 0.41143561810852813, 0.10002663885584667, 0.0880940390665654, 0.28252597569227217, 0.1614228292849149, 0.05539619942779885, 3.4140466956071925e-06, 0.0002194706377041024, 0.0962893188607141, 0.007085138283372278, 0.4642537169080648, 0.254947149562679, 0.6631360896667367, 0.10007781477492085, 0.37939097214919537, 0.022945450014422875, 0.39677698534770905, 0.12417119369789341, 0.17775275295171203, 0.11563497593119587, 0.26076573441095835, 0.05311547535919206, 0.35682014474232154, 0.35731641407502324, 0.4335532214608329, 6.922903481361356e-05, 0.6940354831145579, 0.1951693527695595, 0.5434873780855913, 0.5644721157324062, 0.40722437754091234, 0.11634401391298027, 0.4359951100439528, 0.06801392195064448, 0.4079524571244865, 0.3165290970950904, 0.4006861381112528, 0.21173320332129406, 0.19839494620007447, 0.4277630738173749, 0.18828103662985807, 0.42360991628846795, 0.37939097214919537, 0.18700702912675163, 0.04832294088223859, 0.1668893826181442, 0.2741117369831936, 0.4053482309075084, 0.11563497593119587, 0.2425847237133979, 0.0880940390665654, 0.28918410919501614, 0.38700489580188946, 0.14254680650282991, 0.37708634141839065, 0.23501147651898308, 0.20260563704278575, 0.4504584598969057, 0.14136940014327767, 0.1967907700206473, 0.37122392510155233, 0.18828103662985807, 0.20449574051546435, 0.5710919370089261, 0.2984386009810801, 0.03867773627248115, 0.3722317385301429, 0.16500021913358726, 0.11714909364861265, 0.1871513180056738, 0.19433019367182455, 0.2560170151433545, 0.15004057302119825, 0.39021411139898665, 0.16219319000959176, 0.24456573928426878, 0.12749448677434494, 0.5244979438304609, 0.22819121451363422, 0.41143561810852813, 0.35189945316075383, 0.42849663743945765, 0.0038472081992461282, 0.36889072758421065, 0.6826096655010472, 0.9997463418566387, 0.025955569978950477, 0.9999538708505306, 0.2082761571004111, 0.5803362497311333, 4.57577270035383e-05, 0.4106276982611206, 0.3383625327248198, 0.31322113562264015, 0.511647221115425, 0.18828103662985807, 0.19285226342356224, 0.36860717952101324, 0.24534159929785682, 0.36889072758421065, 0.06140285523956342, 0.3383625327248198, 0.42062459550185666, 0.029160044730329727, 0.13146563460435645, 0.08869105217035923, 0.20917649718097847, 0.7419037218216006, 0.3454172740365838, 0.46207305952412414, 0.016722421730333524, 0.0017836078653645888, 0.016722421730333524, 0.03867773627248115, 0.34409176346692427, 0.08929171505994413, 0.209610442909438, 0.25628896023510717, 0.3389657776511018, 0.07993876471398574, 0.0012453860069090066, 0.03867773627248115, 0.0392324806313851, 0.22333151232007348, 0.08989604466896929, 0.09415048745866725, 0.3222155421717992, 0.6347247853872864, 0.07521094543258508, 0.1951693527695595, 0.05409048244547014, 0.03895416097885208, 0.3772058246075699, 0.19291302230765922, 0.1871513180056738, 0.5586192166883646, 0.13488667653581565, 0.08701759825511783, 0.31915286311104096, 0.48151234008160476, 0.38762692945475336, 0.20527921030825755, 0.09679051932818457, 0.2951022306437055, 0.2737733838124749, 0.06800483790503829, 0.35389709599796243, 0.27025304865664057, 0.1871513180056738, 0.10814415852504022, 0.1441826244441698, 0.880066548793653, 1.3139563913783906e-05, 0.29646329945259314, 0.415752678250954, 0.13111822374124124, 0.44600490660088443, 0.0012500260138848757, 0.1860268244140689, 0.07614575473801936, 0.2675847637051828, 0.10169822839307766, 0.2951022306437055, 0.6730422552949116, 0.24506981124461635, 0.41143561810852813, 0.18828103662985807, 0.4832292065663065, 0.18941598556556344, 0.3946847194691664, 0.00043801174724963465, 0.12382774571228655, 0.23960467317911618, 0.003454463838295053, 0.052735158843190584, 0.1459201621870047, 0.1979784034286287, 0.0880940390665654, 0.23440699468891815, 0.1860268244140689, 0.5319329007533709, 0.003178996587420429, 0.2887705024563275, 0.06383596028841847, 0.12025927481040524, 0.6766606062107829, 0.1860268244140689, 0.1860268244140689, 0.18333698720114883, 0.264947099152484, 0.5584810022565275, 0.08869105217035923, 0.5109991873001597, 0.18828103662985807, 0.39114501298246807, 0.6013266275898763, 0.11312086473056232, 0.11182659141481792, 0.4144766217982444, 6.795858981755117e-05, 0.0017223971706512788, 0.34331218035782973, 0.2271140516233994, 0.4046229713310205, 0.15271987192349476, 0.4948090569504754, 0.212757218794805, 0.20250623913560045, 0.18333698720114883, 0.41251297479849147, 0.12529475630705997, 0.5898085963219497, 0.05971688641692536, 0.040942859163593866, 0.3443433221132273, 0.1860268244140689, 0.18941598556556344, 0.46245908302859284, 0.1507354382939389, 0.1957000414978215, 0.00010824461861196881, 0.0016769283136196097, 0.0006262356171627689, 0.08302013566588795, 0.23604606149134746, 0.09415048745866725, 0.36155565700806097, 0.18941598556556344, 0.3954322777104207, 0.31104788627579844, 0.12699164127319776, 0.25699915860641476, 0.06112626902326458, 0.0012453860069090066, 0.1453465636524786, 0.15053125110475138, 0.04198005374764638, 0.11874120133719718, 0.22374582625824097, 0.0675457780815105, 0.37122392510155233, 0.2796812368918057, 0.056258805008491945, 0.027164304044047648, 0.18828103662985807, 0.44855380031482206, 0.0675457780815105, 0.11563497593119587, 0.8272202623557089, 0.005043907189252726, 0.1241802675030709, 0.5612775349795642, 0.01433349680720555, 0.24532698808287717, 0.14361707858514933, 0.10160557668453801, 0.18828103662985807, 0.44855380031482206, 0.19170159428741582, 0.1860268244140689, 0.08929171505994413, 0.6501772603144332, 0.041751757153991154, 0.3510601724689107, 0.16236284387132333, 0.37122392510155233, 0.3377941001359418, 0.20530853692994525, 0.18828103662985807, 0.014405785763302746, 0.3052775682033433, 0.09055400775592505, 0.4448966682862618, 0.041544225739309416, 0.26398785228384103, 0.010807703465949952, 0.89335721490388, 0.19313432300190467, 0.11563497593119587, 0.3328789238366575, 0.8282492042487277, 0.37939097214919537, 0.6232220381765294, 0.04036494625363454, 0.12025927481040524, 0.13231392895424862, 0.37122392510155233, 0.12019819758383543, 8.65946606692309e-05, 0.007085138283372278, 0.12025927481040524, 0.04204817346602832, 0.37703722354273295, 0.3953008590774917, 0.007687894065136843, 0.4236565632438324, 0.09722635212675215, 0.3984454588078396, 0.1860268244140689, 0.25110219574562687, 0.2343225174483365, 0.37122392510155233, 0.1065350652538013, 0.09173120321502529, 0.18591464768147759, 0.08228722213319072, 0.038677431589175644, 0.1239029778833305, 0.08417664700262903, 0.2312539764925173, 0.38700489580188946, 0.16340499425652424, 0.03951270706460206, 0.2822425259814378, 0.26741534741666007, 0.2572557829975315, 0.1091994425921007, 0.1902156010197738, 0.19971681463620722, 0.34881473211366704, 0.12064332999160952, 0.1979287774059762, 0.022395643023623853, 0.1902156010197738, 0.1410616836948928, 0.1871513180056738, 0.0880940390665654, 0.16687120984831894, 0.24394863604565012, 0.4953902395074011, 0.19986664039838326, 0.26269971754136817, 0.4815411356179026, 0.367434515319785, 0.3753993628377683, 0.03867773627248115, 0.03867773627248115, 0.39947188996516086, 0.3752985793107295, 0.1860268244140689, 0.284097012706249, 0.1860268244140689, 0.0037342067148874816, 0.21841629869842513, 0.07666669376878243, 0.5845029624321767, 0.06830672498594423, 0.5239291221339291, 0.9847778962851512, 0.01805383223445229, 0.2642845607430545, 0.07758047359550736, 0.13702362555798991, 0.18504795563556128, 0.37122392510155233, 0.10869326537955706, 0.05719699304687771, 0.36889072758421065, 0.029490128141724175, 0.1860268244140689, 0.12752196549175507, 0.5019375642795662, 0.21173320332129406, 0.03951270706460206, 0.1793482307042617, 0.0001610495253901206, 0.2043699682233099, 0.00034674524172982683, 0.388058847065307, 0.20132133219436113, 0.1905561698522873, 0.372347181387971, 0.14204620080790065, 0.07771631071973108, 0.4578357072526604, 0.23293570031589717, 0.042720683495668696, 0.1714320377081675, 0.4427677734260861, 0.3953008590774917, 0.17676973960216408, 0.07424274611992676, 0.37122392510155233, 0.5581182861840462, 0.6032124492498059, 0.29811301217556896, 0.11563497593119587, 0.0019790147574288218, 0.1860268244140689, 0.5784141455003542, 0.1905561698522873, 0.3394729309078779, 0.01862258936067305, 0.37122392510155233, 0.1458278374689046, 0.2781087797132507, 3.8643952140504883e-05, 0.35452455793350135, 0.3081042827080581, 0.1737166892959341, 0.34856048126374356, 0.23870329329140805, 0.2723208204624426, 0.12129953027793247, 0.1979784034286287, 0.1860268244140689, 0.252314312197644, 0.1505978327071018, 0.11792749055068213, 7.334775209909878e-05, 0.4213991877439103, 0.1875471321551556, 0.6626526292505607, 0.16607828747471534, 0.38700489580188946, 0.33134203530384615, 0.3748466134169003, 0.6354793114753083, 0.34769673483562974, 0.1528002116798828, 0.5093035181060592, 0.007033206043050562, 0.0675457780815105, 0.3624698179399947, 0.1860268244140689, 0.0675457780815105, 0.2242037196910186, 0.2909776809800842, 0.1860268244140689, 0.0005667610686627938, 0.4131415166696841, 0.188678685465971, 0.19170159428741582, 0.08472042676586636, 0.43659280376791143, 0.3846382744525912, 0.5180883994127117, 0.21269185695645992, 0.7577515993891559, 0.413263231875492, 0.24205900827103388, 0.3154269647605152, 0.07666082694337129, 0.18828103662985807, 0.15786102519994025, 0.47886492838073624, 0.02289151081879489, 0.05540912572885201, 0.09355807012061514, 0.15004057302119825, 0.026715447426929453, 0.1587772083836767, 0.2346324707602011, 0.38700489580188946, 0.1871513180056738, 0.007033206043050562, 0.14479682061144383, 0.6225379652076836, 0.34911789529999815, 0.3706172978128688, 0.1905561698522873, 0.18333698720114883, 0.1979784034286287, 0.004138501964990435, 0.28561576635679453, 0.19633578083688555, 0.24394863604565012, 0.18828103662985807, 0.03895416097885208, 0.40722437754091234, 0.37295496229813657, 0.3787790385838013, 0.1860268244140689, 0.19349377522094086, 0.4480236175142989, 0.1871513180056738, 0.6693875502386175, 0.1860268244140689, 0.18828103662985807, 0.12698254918835788, 0.0631332275513104, 0.02711248966712033, 0.01889807499626124, 0.08853009217700454, 0.9921178362294117, 0.03867773627248115, 0.24322585933599486, 0.011056975783910636, 0.39701305895232397, 0.3752985793107295, 0.3333916363548895, 0.10705460891049776, 0.00013636876680857258, 0.38240413121717265, 0.19784687931962414, 0.1860268244140689, 0.37939097214919537, 0.39114501298246807, 0.03192956140696646, 0.4779861136621105, 0.11363727075353586, 0.3470944018112634, 0.1748896519998114, 0.679117004047441, 0.007033206043050562, 0.6708167870343116, 0.13838255793847834, 0.000337961788770664, 0.18828103662985807, 0.26504340858697695, 0.37939097214919537, 0.08153454934989084, 0.4317160692891949, 0.03256612705170755, 0.20252725529211554, 0.19825380730601355, 0.01968347296969557, 0.4012505912888379, 0.4673060303773032, 0.23109367413562412, 0.007033206043050562, 0.13316685775558387, 0.3775563298827638, 0.1860268244140689, 0.5838404802870499, 0.3752985793107295, 0.21989749957449525, 0.3959276144698307, 0.6505238688365012, 0.07711620778117888, 0.13303204262959117, 0.5948435747916281, 0.4744953673848353, 0.40722437754091234, 0.20760134746163708, 0.1522897303002967, 6.382019141472524e-05, 0.6252031754363992, 6.889362597620448e-05, 0.19812191278288732, 0.1250423542699914, 0.33324240994935855, 0.6884625611855122, 0.19170159428741582, 0.3751431365751296, 0.05129752975599974, 0.14465255131189123, 0.18828103662985807, 0.020268452226714195, 0.08153454934989084, 0.012751894587223206, 0.22457626166454114, 0.12656332130890158, 0.09428650527608594, 0.4290468363140098, 0.18828103662985807, 0.3269431298047086, 0.3972848893658575, 0.4199658978120131, 0.13555682809703662, 0.3752985793107295, 0.0996197549474549, 0.447408783107067, 0.2355183064364597, 0.6058930181007648, 0.020416102389341436, 0.2237481147600274, 0.19170159428741582, 0.38700489580188946, 0.1860268244140689, 0.26111440420213766, 0.1361047845467812, 0.6640722149601569, 0.09297328645724307, 0.0844921228266538, 0.18759046295204182, 0.01836280380809309, 0.019536619960210902, 0.26064640886003676, 0.0001389407061604778, 0.1905561698522873, 0.05971688641692536, 0.8655272066405878, 0.02304238483371847, 0.22899571673827712, 0.018440549010514132, 0.49353010272176245, 0.03404014138771028, 0.1058552627271672, 0.0025618193509386296, 0.02299503673638742, 0.07932450078299148, 0.37700011506535536, 0.1860268244140689, 0.20132133219436113, 0.09392899650821668, 0.03905160476943149, 0.1902156010197738, 0.2409566197713258, 0.37122392510155233, 0.2520017865804789, 0.3371236908141308, 0.07779326223571814, 0.00010986036105963318, 0.18253716453964153, 0.0675457780815105, 0.33734846648498, 0.052997987347079945, 0.1712004098939013, 0.1871513180056738, 0.2559943264155586, 0.12369415287450702, 0.2633824469137391, 0.1860268244140689, 0.12504145774357617, 0.42484969334503075, 0.1871513180056738, 0.1095995105124607, 0.4378004976892063, 0.31656009559631987, 0.39213080921541854, 0.18828103662985807, 0.0889014035834896, 0.38165830099385384, 0.1905561698522873, 0.04966561015641409, 0.18123960014629809, 0.3462780287889807, 0.09423044322314457, 0.5102740050134196, 0.3479066147622552, 0.0015106465513158559, 0.4529605931622251, 0.16788755037060238, 0.388379861038715, 0.3513956645014466, 0.2435615902538411, 0.4912100769072755, 0.22276138067041235, 0.0880940390665654, 0.0880940390665654, 0.607308609529604, 0.4078572868674031, 0.34751242141565847, 0.4337352426206049, 0.07666301096403598, 0.2845840376664868, 0.2082898395752439, 0.03895416097885208, 0.4933700232363354, 0.5502069389657556, 0.1905561698522873, 0.5428455799429609, 0.07718691561456358, 0.10303712619784614, 0.11563497593119587, 0.03867773627248115, 0.5353034587614014, 0.48634953209024107, 0.007103450991831139, 0.29946654511801224, 0.18280755446985578, 0.3708407646888, 0.4492022675271612, 0.13146563460435645, 0.20652186268608388, 0.34303982977905045, 0.37122392510155233, 0.18941598556556344, 0.0445800395739745, 0.494947859926643, 0.1860268244140689, 0.06848507211195781, 0.08358591476631266, 0.22001194829031642, 0.05202839350599724, 0.148836212670641, 0.21609277188540513, 0.17497355533874703, 0.0880940390665654, 0.3433321987328806, 0.13085584550992, 0.6728400936383069, 0.18828103662985807, 0.03895416097885208, 0.24292961665686943, 0.10660895329586292, 0.43203191045006056, 0.44059932578213634, 0.08153454934989084, 0.6199237930536184, 0.017273789187829097, 0.2767386980317842, 0.0010873098887229503, 0.1273879024195538, 0.20336349883434293, 0.2150198065645382, 0.017968771431135185, 0.15004057302119825, 0.00800254700180139, 0.1875471321551556, 0.12723829804780643, 0.14260719740407218, 1.9630989362892637e-05, 0.1860268244140689, 0.1905561698522873, 0.1905561698522873, 0.37122392510155233, 0.05831347148725573, 0.18828103662985807, 0.38762692945475336, 0.06401537309061364, 0.4378429377310735, 0.1475324929374329, 0.03765774046668974, 0.3499777609191246, 0.5044573937593586, 0.12782323188234834, 0.6308701498154685, 0.5044669505925005, 0.3776253560627597, 0.11563497593119587, 0.22591230847605032, 0.1905561698522873, 0.2567103267768474, 0.287210972643644, 0.17687690206092893, 0.37903249749378426, 0.3822720237580063, 0.4925715800444473, 0.4368702188365691, 0.10995900382378752, 0.23369293854067535, 0.0675457780815105, 0.06950378797724675, 0.2010541287973994, 0.30465604689550224, 0.43203191045006056, 0.1435155043954003, 0.36889072758421065, 0.0880940390665654, 0.18160701280637004, 0.033497459615013055, 0.15780670126643814, 0.21173320332129406, 0.10450322754358579, 0.338917510202908, 0.04867624554006237, 0.4010817446332911, 0.0675457780815105, 0.14260719740407218, 0.1871513180056738, 0.07273885563156536, 0.1860268244140689, 0.1860268244140689, 0.18828103662985807, 8.716680762998501e-05, 0.09564652706187912, 0.08994569210846678, 0.211610127154377, 0.315798253493448, 0.0880940390665654, 0.09415048745866725, 0.3752985793107295, 0.20686798695408204, 0.12248046878165723, 0.7827792929173505, 0.15149548927191434, 0.1519401144479355, 0.0034186962899485913, 0.1860268244140689, 0.48747500286395695, 0.36913987262562237, 0.5701310179287875, 0.10237708652408437, 0.02903481825292761, 0.09385325434006145, 0.008109576938041626, 0.1871513180056738, 0.3852538035634082, 0.1860268244140689, 0.43695565868215047, 0.213844622725088, 0.18828103662985807, 0.41863579122693334, 0.007111380875734416, 0.11827425915630682, 0.15802887866797466, 1.0903535358247512e-05, 0.08707435195355148, 0.5600235811947633, 0.37122392510155233, 0.37939097214919537, 0.372347181387971, 0.3706172978128688, 0.22453325157877804, 0.1860268244140689, 0.3252658251056737, 0.12039868050934464, 0.43150597514111694, 0.11874120133719718, 0.39927638640526525, 0.23647207625287398, 0.12343014357030656, 0.08801785116034082, 0.2465471698786467, 0.10655037531558934, 0.10169822839307766, 0.20003781179804206, 0.07666082694337129, 0.5860561720890347, 0.5231431868613939, 0.18828103662985807, 0.0005611199239990188, 0.38700489580188946, 0.2990532857500802, 0.05952595466474143, 0.23466972370395056, 0.1871513180056738, 0.0012325511702529675, 0.25257329021227987, 0.6240527451837412, 0.4905544689077043, 0.1828247205774634, 0.6837380593695577, 0.943130294224403, 0.38402311444297105, 0.32905379157890036, 0.37277206417366326, 0.09330033460955076, 0.0675457780815105, 0.0012546357669138094, 0.18828103662985807, 0.16480527287922803, 0.38700489580188946, 0.3821441003965514, 0.8694779201997016, 0.25628896023510717, 0.2600204086770923, 0.12047717658159095, 0.18941598556556344, 0.004913205280500741, 0.48513003719567854, 0.25628896023510717, 0.03488921627036245, 0.18647590775205466, 0.08010951692272202, 0.4277630738173749, 0.03079676202293993, 0.787396102743165, 0.4073738101603396, 0.3213675828072141, 0.11639481072837984, 0.4691592065243351, 0.36271148385422414, 0.00010515124976036289, 0.37371379860419784, 0.08929171505994413, 0.11792749055068213, 0.40688228000185805, 0.1437078582063279, 0.027496943107254812, 0.0392324806313851, 0.4284048346036704, 0.1871513180056738, 0.09415048745866725, 0.03237549420733017, 0.11789436144572818, 0.1860268244140689, 0.37295496229813657, 0.022797956561946876, 0.40498717279949076, 0.8299768977782787, 0.1860268244140689, 0.007674993388680574, 0.3917795626167749, 0.08869105217035923, 0.07666082694337129, 0.14855585045185254, 0.7940478670000686, 0.12222421560068468, 0.1449992126791155, 0.11563497593119587, 0.42053518485342567, 0.5229332258726432, 0.04389207463655609, 0.39947188996516086, 0.03867773627248115, 0.016967825053196363, 0.07091218745988906, 0.3572211491562476, 0.005717396234323487, 0.03895416097885208, 0.23436383369317612, 0.25628896023510717, 0.3513956645014466, 1.3972935785822711e-05, 0.15004057302119825, 0.0392324806313851, 0.4784417313433001, 0.14149595480729837, 0.21550677905972115, 0.14836308902224082, 0.0748680676351747, 0.016722421730333524, 0.1860268244140689, 0.37782181580687624, 0.23913132995171077, 0.1766023011374523, 0.4751736146633769, 0.21942339883819176, 0.1592120099874361, 0.21173320332129406, 0.6405861247614325, 0.017968771431135185, 0.09975972233815106, 0.03867773627248115, 0.17919222824815928, 0.1949371537534093, 0.32789073222213694, 0.0012546357669138094, 0.11309064537613207, 0.1860268244140689, 0.2790852319287857, 0.07208306330873646, 0.42414507314169747, 0.0392324806313851, 0.05677786036020235, 0.36889072758421065, 0.16556277207214776, 0.15256702175969483, 0.3399471090376428, 0.6896078232359323, 0.18981547088403353, 0.3637050039882166, 0.018099978538286893, 0.04007892789783187, 0.49596193623169016, 0.3740803402405229, 0.12616346556758856, 0.07006676040710436, 0.3810717465865994, 0.1871513180056738, 0.37122392510155233, 0.11092023700130109, 0.1860268244140689, 0.06701882114974414, 0.08989604466896929, 0.6199538641185267, 0.1871513180056738, 0.28772698887827114, 0.04775772445268361, 0.13274166938590423, 0.4148287120868087, 0.045312291105430585, 0.13231392895424862, 0.022664472459227345, 0.1860268244140689, 0.1616141292752056, 0.0009255201150476076, 0.32860720071339966, 9.602669769654857e-05, 0.5742724783929051, 0.23466972370395056, 0.118370378044175, 0.2120983797347785, 0.02371795506811267, 0.1860268244140689, 0.1860268244140689, 0.09111577180307302, 0.12047339679501896, 0.2438357606630756, 0.17856666357220255, 0.07389325298001978, 0.1595874854637462, 0.10515154548988181, 0.10237708652408437, 0.08446193805905386, 0.5556900051244983, 0.372347181387971, 0.1783493864701063, 1.3869793763743493e-05, 0.18828103662985807, 0.2618068994272423, 0.1860268244140689, 0.18941598556556344, 0.04007892789783187, 0.3266285524175766, 0.010221208880101695, 0.1860268244140689, 0.0005667610686627938, 0.502189497277033, 0.38033807163263084, 0.12155557099762028, 0.09357901904625453, 0.4808929997416909, 0.00010914822426909786, 0.43631086619996895, 0.5508461899297576, 0.37929908292389336, 0.1860268244140689, 0.35379919942002735, 0.07932450078299148, 0.0013732435140693389, 0.19170159428741582, 0.6264953063897806, 0.043614937639091064, 0.10957957034906836, 0.16565685497557334, 0.003401027046012588, 0.01919097511059503, 0.016722421730333524, 4.3423715730713867e-05, 0.43967232062380157, 0.1334331583911706, 0.15579837707797076, 0.29819604744439315, 0.18333698720114883, 0.37122392510155233, 0.47017883709626257, 0.13488667653581565, 0.10214280456307556, 0.49831024876443053, 0.1860268244140689, 0.16359797397355605, 0.04905895346601742, 0.25904862458815064, 0.4707936642139845, 0.0007107040731213322, 0.5487972453718563, 0.3953008590774917, 0.38165830099385384, 0.04530323674145354, 0.12698254918835788, 0.086959739876553, 0.15125189512170667, 0.007033206043050562, 0.1860268244140689, 0.27435101345778584, 0.14348514612668567, 0.43063863170750594, 0.16828562454290194, 0.1860268244140689, 0.04747912498827837, 0.04305980633584492, 0.04007892789783187, 0.11235916776563513, 0.04036494625363454, 0.287210972643644, 0.42351021422275165, 0.312637840353037, 0.3752985793107295, 0.007033206043050562, 0.15190829017083776, 0.14198426388305824, 0.11043994136952591, 0.5300996650795726, 0.2764226470101757, 0.35832848571358056, 0.23088421008371837, 0.4044242295306623, 0.517600498805389, 0.1860268244140689, 0.22934532664490107, 0.17312667145548563, 0.206605788349793, 0.016722421730333524, 0.19666071361678022, 0.1379196932603826, 0.0004385434678568206, 0.18941598556556344, 0.38012775404946847, 0.1999874581416766, 8.335646667304716e-05, 1.9249449196005833e-05, 0.010174664501581283, 0.19301887667747422, 0.19285226342356224, 0.11563497593119587, 0.15441955080614964, 0.6188642368020982, 0.3376662248642025, 0.13199291340166996, 0.3974935155401685, 0.1871513180056738, 0.5261245665012521, 0.12577370865429557, 0.1860268244140689, 0.017793006433480276, 0.1860268244140689, 0.19433019367182455, 0.01730496601186491, 0.17036310119912218, 0.1576997238345305, 0.16401605815110595, 0.039794852170349886, 0.0002194706377041024, 0.966070013058948, 0.15004057302119825, 0.6140456682875641, 0.14631808511515798, 0.34095008581531805, 0.5267735459436278, 0.5114122349327344, 4.819337235322337e-05, 0.4528659181073565, 0.18954238128825007, 0.19569958821190198, 0.37122392510155233, 0.20344492380391535, 0.4015033455275051, 0.6222099494204415, 0.3752985793107295, 0.521779790456651, 0.0893988707961966, 0.3911501326499033, 0.4843051383736534, 0.255034789666078, 0.19291302230765922, 0.18828103662985807, 8.75262963852883e-05, 0.1860268244140689, 0.4156598709497144, 0.0002813424597860816, 0.3870099957245426, 0.6434282190837775, 0.09073613279544872, 0.00022263310130288738, 0.17814010709029152, 0.8645277869883569, 0.32579401089069826, 0.14739340862858377, 0.06094895869555901, 0.7727476151549342, 0.11437116250789542, 0.0001530495439386414, 0.4364518298496361, 0.03062233407084389, 0.5461042263137079, 0.38700489580188946, 0.1266999074050874, 0.11608190313134271, 0.3755058256510926, 0.4973434944371461, 0.007085138283372278, 0.37122392510155233, 0.0392324806313851, 0.2274858814512889, 0.18167245194323184, 0.12104533673737895, 0.19646957760750622, 0.26469249762766084, 0.10869326537955706, 0.22424525940187195, 0.36889072758421065, 0.11235916776563513, 0.05540912572885201, 0.31712654951264835, 3.92971638124611e-05, 0.44893516476663625, 0.37883409489937986, 0.11455020899067528, 0.10646294515392234, 0.007970664688816374, 0.03895416097885208, 0.017968771431135185, 0.0557981868502281, 0.37122392510155233, 0.18828103662985807, 0.09297328645724307, 0.00022110238197975597, 0.43959437448212624, 0.15779010531244367, 0.3302290278362204, 0.41581420874301595, 0.18941598556556344, 0.2385618846889436, 0.041396867675896946, 0.2085641489807429, 0.3429700302985121, 0.40722437754091234, 0.0413077255116981, 0.00010933333958065547, 0.20970824900838556, 0.00010904949772764562, 0.06040408405863915, 0.15664477349768186, 0.1860268244140689, 0.13146563460435645, 0.14260719740407218, 0.19285226342356224, 0.04007892789783187, 0.10514995787237151, 0.3811370082195226, 0.007085138283372278, 0.2848848262527368, 0.05887656026938912, 0.18941598556556344, 0.25270500739202334, 0.16927902671352263, 0.34760822239791456, 0.4265967814107925, 0.274660480751424, 0.123045731053829, 0.3740803402405229, 0.07040005616084234, 0.04662754785041195, 0.6131607228649666, 0.38385178520144286, 0.801380911093175, 0.08083540962467754, 0.14260719740407218, 0.29053700342690436, 0.2831304650891975, 0.10515604284983053, 0.3706172978128688, 0.03895416097885208, 0.6192102869028968, 0.5919405224565467, 0.035569560493228236, 0.02344219491073782, 0.36889072758421065, 0.2842152832004827, 0.18264963764971912, 0.13146563460435645, 0.38795288438670344, 0.37072217747358127, 0.18848240005936454, 0.1871513180056738, 0.18941598556556344, 0.03867773627248115, 0.1592620041547482, 0.39114501298246807, 0.18941598556556344, 0.07317539935896379, 0.22663345685276043, 0.7562700113710593, 0.03895416097885208, 0.3074504501761389, 0.12698254918835788, 0.21244553808068192, 0.1860268244140689, 0.1905561698522873, 0.1342921853831487, 0.3384587713460076, 0.007033206043050562, 0.028311601026073538, 0.016844684156622915, 0.3912025229361583, 0.3953008590774917, 0.1860268244140689, 0.327510149131583, 0.5710007287722686, 0.16236284387132333, 0.22910036416129423, 0.18828103662985807, 0.38015219317819954, 0.09050405793594732, 0.19482252351726198, 0.08994569210846678, 0.13146563460435645, 0.6885624688357433, 0.1860268244140689, 0.37295496229813657, 0.13231392895424862, 0.3337125250141871, 0.06507908605369009, 0.18941598556556344, 0.4809111450113198, 0.08869105217035923, 0.32966007331090336, 0.05843542884157794, 0.4582926463711475, 0.2790852319287857, 0.24450160599565562, 0.14530318839365616, 0.6539759193018054, 0.19995877231219575, 0.23385215074979418, 0.5678416026879389, 0.8226809283055684, 0.7847676613724693, 0.44795844863937173, 0.04182460170724703, 0.0880940390665654, 0.18828103662985807, 0.03867773627248115, 0.15261131183485804, 0.23671984105794552, 0.18909002830169805, 0.0880940390665654, 0.06383524120015241, 0.00011125415927873082, 0.5085412442291944, 0.11478301914840895, 0.03895416097885208, 0.0880940390665654, 0.19263271247562574, 0.06895924456055445, 0.1860268244140689, 0.1871513180056738, 0.2600171272275003, 0.1871513180056738, 0.3513956645014466, 0.37122392510155233, 0.1860268244140689, 0.00010981511432640783, 0.3083829193668107, 0.22351716588618814, 0.3810204945087633, 0.00466923571393058, 0.14860531909532118, 0.007751598222794988, 0.16332372356702807, 0.18941598556556344, 0.6071607712441947, 0.6246289567763397, 0.16480527287922803, 0.06642088905287452, 0.07050699701739269, 0.8875384921292283, 0.2994147304650214, 0.21222301036492563, 0.16353035119310022, 0.0880940390665654, 0.11414260960172837, 0.017091850505656116, 0.1875471321551556, 0.8177218248597742, 0.1871513180056738, 0.09564652706187912, 0.37122392510155233, 0.4156598709497144, 0.12501533330439857, 0.47951911123369356, 0.212757218794805, 0.009292457087132673, 0.007085138283372278, 0.45269901309346566, 0.1860268244140689, 0.0675457780815105, 0.13842909908579085, 0.37122392510155233, 0.19400818156590974, 0.37122392510155233, 0.36024781273290485, 0.13389813841216294, 0.10214280456307556, 0.5395499856143461, 0.38288612231646724, 0.21820278376071917, 0.5354010110039846, 0.1871513180056738, 0.2562859261723176, 0.2779107521452518, 0.18211987433314164, 0.061831247125915215, 0.1860268244140689, 0.16954153903055158, 0.11563497593119587, 0.10004839391338516, 0.22945212749094523, 0.40365755291737143, 0.00010904949772764562, 0.1871513180056738, 0.26202960574257617, 0.05719699304687771, 0.03237053922800327, 0.5652664013252666, 0.47886492838073624, 0.2051948750822691, 0.46405321688984125, 0.13488667653581565, 0.10481593717043594, 0.19971681463620722, 0.005128398697954023, 0.18941598556556344, 0.1374722315562033, 0.27526132299921946, 0.007190147626952467, 0.0017193642589162549, 0.5323538805271412, 0.08304233040793524, 0.3553756857257608, 0.5332110025844263, 0.2755427315841074, 1.050282973575033e-07, 0.6983368344139166, 0.14679604125142598, 0.3875342910794271, 0.6755763042585887, 0.04878309457821642, 0.08702644462318719, 0.12239322915782641, 0.20048658963075972, 0.10169822839307766, 0.1860268244140689, 0.4526542964771974, 0.0029429092010308856, 0.3815919151465387, 0.4463039507103878, 0.2727552939718238, 0.19128303187202714, 0.12277252663578105, 0.1468150143972431, 0.1280633370829655, 0.10515604284983053, 0.12958178159100814, 0.1860268244140689, 0.6428212303096685, 0.007243230249497501, 0.3191607157835848, 0.5302289074428945, 0.005423962458007724, 0.3539754189645375, 0.595185765704509, 0.1860268244140689, 0.13983074181636143, 0.20224688918895442, 0.09438512873895108, 0.3752985793107295, 0.558824752643352, 0.1074632409213005, 0.11471902927990736, 0.05111090583374278, 0.3706172978128688, 0.04627530194164258, 0.13146563460435645, 0.3752985793107295, 0.004501790751756388, 0.1644882456273038, 0.1860268244140689, 0.07718691561456358, 0.8632040554464129, 0.38762692945475336, 0.24068744098657877, 0.003007179411001369, 0.4248554572601962, 0.2622526200687436, 0.1361047845467812, 0.08929171505994413, 0.29223611820003464, 0.27875971075843986, 0.5676220055003292, 0.09670422572892272, 0.12667258010829696, 0.1860268244140689, 0.018608245590827435, 0.2197679024726303, 0.23828396164203688, 0.0952400122803744, 0.19285226342356224, 0.09235036911775295, 0.1315936710955724, 0.324954361044372, 0.16354816660283084, 0.44992182943442083, 0.2983365621914584, 0.1491712503803714, 0.32899642239015137, 0.35623881705871113, 0.3376562292993014, 0.3752985793107295, 0.18941598556556344, 0.8530037622599137, 0.0012546357669138094, 0.08153454934989084, 0.1153731757310194, 0.04662754785041195, 0.04923583955466647, 0.5264697568545569, 0.3283432298828595, 0.38147217452502036, 0.0684759297622843, 0.4284048346036704, 0.3508033616233362, 0.1860268244140689, 0.08079879618259188, 0.271595463321824, 0.13027687842077265, 0.04303870972518153, 0.06274204855856645, 0.30054494429848666, 0.1902156010197738, 0.10069558954491103, 0.37122392510155233, 0.007033206043050562, 0.1860268244140689, 0.49275064559650283, 0.5532281125300782, 0.26934219654178454, 0.04867624554006237, 0.37278168870086, 0.3764267837116297, 0.1871513180056738, 0.27296501917514293, 0.4277630738173749, 0.32177509415755845, 0.20048658963075972, 0.36889072758421065, 0.23594068968177964, 0.016844684156622915, 0.32717485220756204, 0.5566539398533661, 0.6846458541295681, 0.13504043567356852, 0.3359416606791376, 0.03867773627248115, 0.19769984526262435, 0.11405911207469573, 0.46558938314185433, 0.12828114838020488, 0.09415048745866725, 0.122630755537429, 0.18895706910954194, 0.2738705343999545, 0.13474262657894007, 0.2438850368163311, 0.05025158547547952, 0.1902156010197738, 0.37868335110414797, 0.2363658659872928, 0.23025189147154615, 0.3835005949373079, 0.168136983468005, 0.4286604409252161, 0.37122392510155233, 0.379886909707477, 0.4763933027062238, 0.1905561698522873, 0.15779010531244367, 0.3740803402405229, 0.24904260057427277, 0.08929171505994413, 0.1871513180056738, 0.192657341860932, 0.2713587287672736, 0.6377585060684237, 0.8524769373948414, 0.07186864783363837, 0.20132133219436113, 0.18605558364707186, 0.37122392510155233, 0.37122392510155233, 0.2992456114171246, 0.673671367018984, 0.37495345888822224, 0.00022110238197975597, 0.1871513180056738, 0.08707435195355148, 0.09380171202184043, 0.3082842115141004, 0.3034602664817308, 0.09456145258371947, 0.03895416097885208, 0.018185648949547186, 0.2727536685233744, 0.12302482788798506, 0.2845166507388252, 0.09542188738676659, 0.1860268244140689, 0.15779010531244367, 0.366561742751085, 0.1973328418363318, 0.1905561698522873, 0.3752985793107295, 0.041647009767861884, 0.18725648509032544, 0.21193771729335972, 0.1302764443446722, 0.341016322656279, 0.37295496229813657, 0.1423840048990221, 0.44496251255754815, 0.1905561698522873, 0.01562230806554167, 0.1867623299201074, 0.20248874071958656, 0.4277630738173749, 0.37122392510155233, 0.26265159083799866, 0.40557387891417973, 0.18828103662985807, 0.15004057302119825, 0.03867773627248115, 0.25324167931205216, 0.70828664888138, 0.5091638338031396, 0.6835052690174087, 0.204648234602123, 0.209987380491569, 0.21428562859388306, 0.6460310280049123, 0.41143561810852813, 0.21793832647939146, 0.1860268244140689, 0.6814612325835648, 0.007103450991831139, 0.1905561698522873, 0.2614500952514762, 0.5934665953607132, 0.19563945394119914, 0.3687515838713796, 0.4449271260318022, 0.3953008590774917, 0.8942004427032986, 0.2060555520616775, 0.14719696969401647, 0.2776353138360765, 0.08869105217035923, 0.11639481072837984, 0.4450963157468359, 0.34291356950395513, 0.1577572836699977, 0.3764267837116297, 0.22499826200121495, 0.039794852170349886, 0.174108692588351, 0.19285226342356224, 0.3874057111360729, 0.18828103662985807, 0.16611249887679305, 0.1860268244140689, 0.3578618139673807, 0.188678685465971, 0.1713076311650772, 0.003125046595219282, 0.33485692812645057, 0.29873832299371944, 0.4001008829258324, 0.5972702208151527, 0.3596181196006078, 0.4129017003209762, 0.009413273290099639, 0.013003342311126395, 0.08264582316820347, 0.00013653123640254024, 0.017968771431135185, 0.5640231684323268, 0.19170159428741582, 0.23583824572959522, 0.1860268244140689, 0.7341926094562684, 0.18223027392197857, 0.3279508786330603, 0.1875471321551556, 0.24098089682112517, 0.07394947935219963, 0.16189523899099895, 0.4448276118998117, 0.36424924176365486, 0.372347181387971, 0.15344908297808857, 0.044501545227365484, 0.46584222615925425, 0.13504043169078248, 0.00010344221258220298, 0.0001174348705836182, 0.05348934335251946, 0.33120971528230375, 0.01056732477250929, 0.1871513180056738, 0.7727281726628473, 0.7521717205951945, 0.3953008590774917, 0.6616997941716218, 0.0006060416113604825, 0.6455820483690234, 0.09173120321502529, 0.14860163250571598, 0.1878568015363679, 0.12445808952832307, 0.07306421639840689, 0.0392324806313851, 0.38843031689967145, 0.6132880550747547, 0.11081672376150577, 0.6719428369288595, 0.0880940390665654, 0.3945914812326007, 0.45222998310790524, 0.37122392510155233, 0.06946167773655856, 0.13146563460435645, 0.1612844266363182, 0.06895924456055445, 6.303265122325565e-05, 0.17640923034272232, 0.1905561698522873, 0.5673661378742559, 0.8702708624402631, 0.1860268244140689, 0.0880940390665654, 0.14260719740407218, 0.09415382457303234, 0.10673111660867937, 0.18828103662985807, 0.10179602184845722, 0.03867773627248115, 0.11273161457282017, 0.1902156010197738, 0.1860268244140689, 0.4111625282238309, 0.0367336113443974, 0.5534305394306861, 0.36889072758421065, 0.16732474823693455, 0.0007809177025907882, 0.06521947246940563, 0.007103450991831139, 0.1340244354887465, 0.007033206043050562, 0.15098788778668124, 0.34625873651568667, 0.45613319595468904, 0.1871513180056738, 0.10282429064621451, 0.5950472131326582, 0.1860268244140689, 0.19009988502014416, 0.19975200269604781, 0.1860268244140689, 0.5083325722488841, 0.40460592802589235, 0.005923372986024416, 0.12169266583460174, 0.3117190137214382, 0.3863871940886023, 0.080413464690187, 0.2520918254372174, 0.7001502833022138, 0.018278719472483107, 0.0880940390665654, 0.24194045529815864, 0.47564790704912774, 0.15779010531244367, 0.016722421730333524, 0.1871513180056738, 0.3029192399798286, 0.06895924456055445, 0.24015093939887983, 0.057608213220272604, 0.18828103662985807, 0.0624408052979807, 0.19170159428741582, 0.7693362887252526, 0.5734032290767102, 0.24518306173538423, 0.49337641636281604, 0.36889072758421065, 0.1871513180056738, 0.38813313719018994, 0.040942859163593866, 0.24708338075259487, 0.1871513180056738, 0.4854491737950403, 0.11563497593119587, 0.37122392510155233, 0.18016551570151465, 0.3546654850444174, 0.24236480378476807, 0.049836606829024646, 0.0880940390665654, 0.24070182910718863, 0.1871513180056738, 0.4012505912888379, 0.00040345453114422726, 0.1860268244140689, 0.8087202563629833, 0.09716378871488328, 0.09723268599684627, 0.18262359348090557, 0.20027397415039594, 0.36889072758421065, 0.031555118336373825, 0.21820278376071917, 0.47017883709626257, 0.043893134237661904, 0.039794852170349886, 0.32719757813328687, 0.47193993001461193, 0.614278694946668, 0.153334535693015, 0.14308937025030705, 0.39114501298246807, 0.5783682847631849, 0.12025927481040524, 0.20770934252607245, 0.13146563460435645, 0.124623863865416, 0.2895876790691436, 0.0880940390665654, 0.3856614118482512, 0.44855380031482206, 0.0392324806313851, 0.32406079179012803, 0.055539911827805495, 0.09866777784557673, 0.3835909354131793, 0.10692748556978736, 0.3776317276408862, 0.19400818156590974, 0.20383421967847928, 0.36889072758421065, 0.32164947191092896, 0.31324525615314497, 0.20474316396149342, 0.16793351895466277, 0.3834083252796552, 0.07317539935896379, 0.15213983590888905, 0.19839093076952743, 0.4991658197246965, 0.493881974552695, 0.3818674060558406, 0.06086305338118983, 0.09499909625324118, 0.5449820831717594, 0.2951022306437055, 0.5256035322173573, 0.3929108960492694, 0.37122392510155233, 0.16242827509636049, 0.36889072758421065, 0.372347181387971, 0.028990994428703617, 0.1875471321551556, 0.11582030546007747, 0.013625001944542343, 0.4195272137047582, 0.657465864814601, 1.050282973575033e-07, 0.38002964024039465, 0.00782191706246719, 0.3448296907389398, 0.22200635100880253, 0.25819557032242774, 0.09415048745866725, 0.10144280754096087, 0.1871513180056738, 0.026497975430545488, 0.0754058603226851, 0.1871513180056738, 0.3856488530006247, 0.5392220232015544, 0.03867773627248115, 0.007377376282121668, 0.4971011209036714, 0.1385375648008886, 0.19170159428741582, 0.06590401348319072, 0.09812824372303317, 0.18330000813652372, 0.3867397085492764, 0.03895416097885208, 0.03867773627248115, 0.1860268244140689, 0.08248867302886281, 0.1860268244140689, 0.16046565319786738, 0.15630833782444853, 0.08782985846619143, 0.7851083898757187, 0.37295496229813657, 0.3400996454697807, 0.4156598709497144, 0.30124380554974595, 0.05770169431488712, 0.24361363657529844, 0.4328041994757357, 0.10449731279160733, 0.15685822769469082, 0.4004652724120262, 0.2049708121495124, 0.05971688641692536, 0.00011014631325337635, 0.5349168400188523, 0.061831247125915215, 0.20507171781615596, 0.014626520539337669, 0.37295496229813657, 0.1466913003464555, 0.43248891604499956, 0.3706172978128688, 0.12798061752107756, 0.0880940390665654, 0.41548073576969025, 0.9337556938084084, 0.19170159428741582, 0.09415048745866725, 0.225498808582711, 0.004126369725470142, 0.4520852684188339, 0.13488667653581565, 0.014577435301625084, 0.5415829844641942, 0.20229997837430555, 0.4695259017266807, 0.1860268244140689, 0.2640190982959018, 0.1871513180056738, 0.41456153500931026, 0.4081209237681579, 0.1875471321551556, 0.4290468363140098, 0.1891153684637048, 0.1871513180056738, 0.28273964132352336, 0.14263117326242158, 0.6148348022179795, 0.18635313503286308, 0.4455034985897645, 0.24286907351249684, 0.128563973298814, 0.6229647112412197, 0.31025380950515263, 0.06559707991886285, 0.18941598556556344, 0.770220303941172, 0.37703722354273295, 0.7295585446580971, 0.7531103571663367, 0.30239999735359957, 0.2776353138360765, 0.3197907647547873, 0.2513905592011241, 0.05436291281772314, 0.0012546357669138094, 0.1032065801237597, 0.043511706745141064, 1.9199470933874373e-05, 0.00010824461861196881, 0.19986664039838326, 0.2790852319287857, 0.29271624652381734, 0.1342921853831487, 0.1584037095830307, 0.1874609607303801, 0.04036494625363454, 0.1913594622735269, 0.38829194524209787, 0.18828103662985807, 0.18989297162991473, 0.03895416097885208, 0.531065813257507, 0.009697714648857703, 0.2782743257741059, 0.1902156010197738, 0.4242769408336084, 1.9057749679900458e-05, 0.3291512423230386, 0.1860268244140689, 0.15779010531244367, 0.016722421730333524, 0.007085138283372278, 0.1860268244140689, 0.16488627826538935, 0.37122392510155233, 0.4209692051442387, 0.41629668347585863, 0.35641518048796145, 0.6690285866404355, 0.0889014035834896, 0.3856355958801654, 0.38700489580188946, 0.2508458003595149, 0.13488667653581565, 0.1860268244140689, 0.15335391391561218, 0.03867773627248115, 0.30451163151899796, 0.37122392510155233, 0.19400818156590974, 0.188678685465971, 0.15779010531244367, 0.19990613810110253, 0.35474200898299624, 0.1860268244140689, 0.6638482331770337, 0.009152051576358282, 0.21260951790114813, 0.090941089230565, 0.32756634781930744, 0.09938966933133635, 0.18941598556556344, 0.2822363718816315, 0.4738922757344207, 0.1449992126791155, 0.5481258880225472, 0.09050405793594732, 0.007085138283372278, 0.15728790241943869, 0.18828103662985807, 0.15726562463951588, 0.03895416097885208, 0.01344158865359069, 0.0012453860069090066, 0.6451469725470164, 0.5395622487794757, 0.6705733649149419, 0.1875471321551556, 0.3746892613370207, 0.0003106329383655412, 0.01755772363022535, 0.17051438966652638, 0.1871513180056738, 0.1871513180056738, 0.4840892722317658, 0.11639481072837984, 0.14461545413408086, 1.065962026033988e-07, 0.007085138283372278, 0.016722421730333524, 0.374263599513181, 0.23548149884079797, 0.6364997716388467, 0.18981547088403353, 0.07411315019498499, 0.43533156566067027, 0.36889072758421065, 0.6597500989397517, 0.24904260057427277, 0.5478291832691803, 0.38700489580188946, 0.5912148701194727, 0.3454623241663168, 0.1860268244140689, 0.864659057264565, 0.23229454712065412, 0.4734904478190757, 0.5658064450551639, 0.36845657543891436, 0.42360991628846795, 0.4026144573331029, 0.23895161213604335, 0.40426807239878954, 0.2553746546820425, 0.06895924456055445, 0.01620885845134319, 0.10261624249046222, 0.18941598556556344, 0.5467749821648076, 0.18828103662985807, 0.4745199553104369, 0.06490899065569398, 0.13801977310630265, 0.18941598556556344, 3.388845451160031e-06, 0.15004057302119825, 0.2602604966222637, 0.2082898395752439, 0.0151415231520548, 0.12223358490726038, 0.2650189264491055, 0.001263954140009945, 0.16066648526044716, 0.1860268244140689, 0.06507908605369009, 0.1939499532236456, 0.46649454369876553, 0.5211934018601403, 0.06943645533043469, 0.0005268018896797096, 0.00010933333958065547, 0.03867773627248115, 0.30911280466624697, 0.09556807482984499, 0.2975179868807476, 0.36779375029723327, 0.2926397807484307, 0.12104533673737895, 0.31369671408174604, 0.053347811253726986, 0.8345069685108485, 0.31051815692737356, 0.38762692945475336, 0.15786102519994025, 0.11145856412492072, 0.03192956140696646, 0.08835474732103725, 0.4840824133911568, 8.222150559032073e-05, 0.3953008590774917, 0.042894140488892035, 0.06895924456055445, 0.3669136002051933, 0.07088647847827867, 0.1860268244140689, 0.00022816547713706758, 0.1951693527695595, 0.11769785195961405, 0.1860268244140689, 0.4156598709497144, 0.03867773627248115, 0.10869326537955706, 0.03933059214576643, 0.0012453860069090066, 0.07101214868177302, 0.3712895763928469, 0.0392324806313851, 0.07783154971266974, 0.45416522501482315, 0.08599166842784632, 0.1436529546085843, 3.720296427074306e-05, 0.3764267837116297, 0.18961827925716923, 0.17748248819686746, 0.3660125804818584, 0.17856666357220255, 0.8439317798868212, 0.22167352228041898, 0.19633578083688555, 0.11563497593119587, 0.21805234954588693, 0.18941598556556344, 0.13367130342661485, 0.3844874553319106, 0.37495345888822224, 0.6135313518053264, 0.20057843931600688, 0.03867773627248115, 0.188678685465971, 0.5648372839381156, 0.14544882894907105, 0.040942263789400225, 0.49073991593521216, 0.197415559549391, 0.15579837707797076, 0.4083910087893996, 0.0675457780815105, 0.001438390876027969, 0.29852860774949685, 0.5898085963219497, 0.08941827091059673, 0.1871513180056738, 0.08300133403931653, 0.11792749055068213, 0.40583805992478766, 0.4571851218149914, 0.1860268244140689, 0.8894030469397516, 6.442105679957027e-05, 0.5807285732369181, 0.1860268244140689, 0.00782191706246719, 0.37674401860611806, 1.050282973575033e-07, 0.29745638518683726, 0.1979784034286287, 0.534868543813537, 0.05800562548793063]\n",
      "0.7971549044824906\n"
     ]
    }
   ],
   "source": [
    "from sklearn.feature_selection import SelectKBest\n",
    "from sklearn.feature_selection import f_classif\n",
    "\n",
    "# Note that k=5 is specifying that we want the top 5 features\n",
    "selector = SelectKBest(f_classif, k=5)\n",
    "selector.fit(X, y)\n",
    "filter = selector.get_support()\n",
    "top_5_features = X.columns[filter]\n",
    "\n",
    "print(\"Best 5 features:\")\n",
    "print(top_5_features)\n",
    "\n",
    "# Create new training and test data for features\n",
    "new_X_train = X_train[top_5_features]\n",
    "new_X_test = X_test[top_5_features]\n",
    "\n",
    "\n",
    "# Initialize a LogisticRegression model object with the best value of hyperparameter C \n",
    "# The model object should be named 'model'\n",
    "# Note: Supply max_iter=1000 as an argument when creating the model object\n",
    "model = LogisticRegression(max_iter=1000, C=best_c)\n",
    "\n",
    "\n",
    "# Fit the model to the new training data\n",
    "model.fit(new_X_train, y_train)\n",
    "\n",
    "# Use the predict_proba() method to use your model to make predictions on the new test data \n",
    "# Save the values of the second column to a list called 'proba_predictions'\n",
    "proba_predictions = []\n",
    "proba = model.predict_proba(new_X_test)\n",
    "for i in proba:\n",
    "    proba_predictions.append(i[1])\n",
    "\n",
    "print(\"proba:\\n\",proba,\"proba_prediction:\\ns\", proba_predictions)\n",
    "\n",
    "    \n",
    "# Compute the auc-roc\n",
    "fpr, tpr, thresholds = roc_curve(y_test, proba_predictions)\n",
    "auc_result = auc(fpr, tpr)\n",
    "print(auc_result)"
   ]
  },
  {
   "cell_type": "markdown",
   "metadata": {},
   "source": [
    "<b>Task</b>: Consider the results. Change the specified number of features and re-run your code. Does this change the AUC value? What number of features results in the best AUC value? Record your findings in the cell below."
   ]
  },
  {
   "cell_type": "markdown",
   "metadata": {},
   "source": [
    "changing the specified number of features does change the AUC value. "
   ]
  }
 ],
 "metadata": {
  "kernelspec": {
   "display_name": "Python 3",
   "language": "python",
   "name": "python3"
  },
  "language_info": {
   "codemirror_mode": {
    "name": "ipython",
    "version": 3
   },
   "file_extension": ".py",
   "mimetype": "text/x-python",
   "name": "python",
   "nbconvert_exporter": "python",
   "pygments_lexer": "ipython3",
   "version": "3.6.9"
  },
  "toc": {
   "base_numbering": 1,
   "nav_menu": {},
   "number_sections": false,
   "sideBar": true,
   "skip_h1_title": false,
   "title_cell": "Table of Contents",
   "title_sidebar": "Contents",
   "toc_cell": false,
   "toc_position": {},
   "toc_section_display": true,
   "toc_window_display": false
  },
  "varInspector": {
   "cols": {
    "lenName": 16,
    "lenType": 16,
    "lenVar": 40
   },
   "kernels_config": {
    "python": {
     "delete_cmd_postfix": "",
     "delete_cmd_prefix": "del ",
     "library": "var_list.py",
     "varRefreshCmd": "print(var_dic_list())"
    },
    "r": {
     "delete_cmd_postfix": ") ",
     "delete_cmd_prefix": "rm(",
     "library": "var_list.r",
     "varRefreshCmd": "cat(var_dic_list()) "
    }
   },
   "types_to_exclude": [
    "module",
    "function",
    "builtin_function_or_method",
    "instance",
    "_Feature"
   ],
   "window_display": false
  }
 },
 "nbformat": 4,
 "nbformat_minor": 2
}
